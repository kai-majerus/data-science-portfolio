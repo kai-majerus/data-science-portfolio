{
 "cells": [
  {
   "cell_type": "markdown",
   "id": "dac6e09f",
   "metadata": {},
   "source": [
    "# Twitch Data Collection"
   ]
  },
  {
   "cell_type": "markdown",
   "id": "fa9801d8",
   "metadata": {},
   "source": [
    "## Testing the API"
   ]
  },
  {
   "cell_type": "code",
   "execution_count": 1,
   "id": "46fe07ed",
   "metadata": {},
   "outputs": [],
   "source": [
    "# Import necessary libraries\n",
    "import pandas as pd\n",
    "import requests\n",
    "import json\n",
    "\n",
    "# \n",
    "from dotenv import load_dotenv\n",
    "import os \n"
   ]
  },
  {
   "cell_type": "markdown",
   "id": "22fffb1a",
   "metadata": {},
   "source": [
    "Getting secrets from .env file in root of project folder. Token generated from here https://dev.twitch.tv/docs/api"
   ]
  },
  {
   "cell_type": "code",
   "execution_count": 2,
   "id": "b744f82c",
   "metadata": {},
   "outputs": [],
   "source": [
    "# load environment\n",
    "load_dotenv()\n",
    "\n",
    "url = \"https://api.twitch.tv/helix/games/top?first=40\"\n",
    "CLIENT_ID = os.environ.get('CLIENT_ID')\n",
    "CLIENT_SECRET = os.environ.get('CLIENT_SECRET')\n",
    "ACCESS_TOKEN = os.environ.get('ACCESS_TOKEN')\n",
    "\n",
    "headers = {\n",
    "    'Client-ID': CLIENT_ID,\n",
    "    'Authorization': 'Bearer ' + ACCESS_TOKEN\n",
    "}"
   ]
  },
  {
   "cell_type": "code",
   "execution_count": 3,
   "id": "8c65a110",
   "metadata": {
    "scrolled": true
   },
   "outputs": [
    {
     "data": {
      "text/plain": [
       "{'data': [{'id': '509658',\n",
       "   'name': 'Just Chatting',\n",
       "   'box_art_url': 'https://static-cdn.jtvnw.net/ttv-boxart/509658-{width}x{height}.jpg'},\n",
       "  {'id': '32982',\n",
       "   'name': 'Grand Theft Auto V',\n",
       "   'box_art_url': 'https://static-cdn.jtvnw.net/ttv-boxart/32982_IGDB-{width}x{height}.jpg'},\n",
       "  {'id': '33214',\n",
       "   'name': 'Fortnite',\n",
       "   'box_art_url': 'https://static-cdn.jtvnw.net/ttv-boxart/33214-{width}x{height}.jpg'},\n",
       "  {'id': '21779',\n",
       "   'name': 'League of Legends',\n",
       "   'box_art_url': 'https://static-cdn.jtvnw.net/ttv-boxart/21779-{width}x{height}.jpg'},\n",
       "  {'id': '941530474',\n",
       "   'name': 'Mario Kart 8 Deluxe',\n",
       "   'box_art_url': 'https://static-cdn.jtvnw.net/ttv-boxart/941530474_IGDB-{width}x{height}.jpg'},\n",
       "  {'id': '561013832',\n",
       "   'name': 'Pokémon Legends: Arceus',\n",
       "   'box_art_url': 'https://static-cdn.jtvnw.net/ttv-boxart/561013832_IGDB-{width}x{height}.jpg'},\n",
       "  {'id': '518203',\n",
       "   'name': 'Sports',\n",
       "   'box_art_url': 'https://static-cdn.jtvnw.net/ttv-boxart/518203-{width}x{height}.jpg'},\n",
       "  {'id': '516575',\n",
       "   'name': 'VALORANT',\n",
       "   'box_art_url': 'https://static-cdn.jtvnw.net/ttv-boxart/516575-{width}x{height}.jpg'},\n",
       "  {'id': '32399',\n",
       "   'name': 'Counter-Strike: Global Offensive',\n",
       "   'box_art_url': 'https://static-cdn.jtvnw.net/ttv-boxart/32399_IGDB-{width}x{height}.jpg'},\n",
       "  {'id': '1869092879',\n",
       "   'name': 'FIFA 22',\n",
       "   'box_art_url': 'https://static-cdn.jtvnw.net/ttv-boxart/1869092879_IGDB-{width}x{height}.jpg'},\n",
       "  {'id': '512710',\n",
       "   'name': 'Call of Duty: Warzone',\n",
       "   'box_art_url': 'https://static-cdn.jtvnw.net/ttv-boxart/512710-{width}x{height}.jpg'},\n",
       "  {'id': '511224',\n",
       "   'name': 'Apex Legends',\n",
       "   'box_art_url': 'https://static-cdn.jtvnw.net/ttv-boxart/511224-{width}x{height}.jpg'},\n",
       "  {'id': '498566',\n",
       "   'name': 'Slots',\n",
       "   'box_art_url': 'https://static-cdn.jtvnw.net/ttv-boxart/498566-{width}x{height}.jpg'},\n",
       "  {'id': '27471',\n",
       "   'name': 'Minecraft',\n",
       "   'box_art_url': 'https://static-cdn.jtvnw.net/ttv-boxart/27471_IGDB-{width}x{height}.jpg'},\n",
       "  {'id': '263490',\n",
       "   'name': 'Rust',\n",
       "   'box_art_url': 'https://static-cdn.jtvnw.net/ttv-boxart/263490_IGDB-{width}x{height}.jpg'},\n",
       "  {'id': '1833694612',\n",
       "   'name': 'Vampire Survivors',\n",
       "   'box_art_url': 'https://static-cdn.jtvnw.net/ttv-boxart/1833694612_IGDB-{width}x{height}.jpg'},\n",
       "  {'id': '491931',\n",
       "   'name': 'Escape from Tarkov',\n",
       "   'box_art_url': 'https://static-cdn.jtvnw.net/ttv-boxart/491931_IGDB-{width}x{height}.jpg'},\n",
       "  {'id': '29595',\n",
       "   'name': 'Dota 2',\n",
       "   'box_art_url': 'https://static-cdn.jtvnw.net/ttv-boxart/29595-{width}x{height}.jpg'},\n",
       "  {'id': '460630',\n",
       "   'name': \"Tom Clancy's Rainbow Six Siege\",\n",
       "   'box_art_url': 'https://static-cdn.jtvnw.net/ttv-boxart/460630-{width}x{height}.jpg'},\n",
       "  {'id': '18122',\n",
       "   'name': 'World of Warcraft',\n",
       "   'box_art_url': 'https://static-cdn.jtvnw.net/ttv-boxart/18122-{width}x{height}.jpg'},\n",
       "  {'id': '491487',\n",
       "   'name': 'Dead by Daylight',\n",
       "   'box_art_url': 'https://static-cdn.jtvnw.net/ttv-boxart/491487_IGDB-{width}x{height}.jpg'},\n",
       "  {'id': '138585',\n",
       "   'name': 'Hearthstone',\n",
       "   'box_art_url': 'https://static-cdn.jtvnw.net/ttv-boxart/138585_IGDB-{width}x{height}.jpg'},\n",
       "  {'id': '19387',\n",
       "   'name': 'Manhunt 2',\n",
       "   'box_art_url': 'https://static-cdn.jtvnw.net/ttv-boxart/19387_IGDB-{width}x{height}.jpg'},\n",
       "  {'id': '30921',\n",
       "   'name': 'Rocket League',\n",
       "   'box_art_url': 'https://static-cdn.jtvnw.net/ttv-boxart/30921-{width}x{height}.jpg'},\n",
       "  {'id': '26936',\n",
       "   'name': 'Music',\n",
       "   'box_art_url': 'https://static-cdn.jtvnw.net/ttv-boxart/26936-{width}x{height}.jpg'},\n",
       "  {'id': '27546',\n",
       "   'name': 'World of Tanks',\n",
       "   'box_art_url': 'https://static-cdn.jtvnw.net/ttv-boxart/27546-{width}x{height}.jpg'},\n",
       "  {'id': '493057',\n",
       "   'name': 'PUBG: BATTLEGROUNDS',\n",
       "   'box_art_url': 'https://static-cdn.jtvnw.net/ttv-boxart/493057-{width}x{height}.jpg'},\n",
       "  {'id': '278888515',\n",
       "   'name': 'Gartic Phone',\n",
       "   'box_art_url': 'https://static-cdn.jtvnw.net/ttv-boxart/278888515_IGDB-{width}x{height}.jpg'},\n",
       "  {'id': '19620578',\n",
       "   'name': 'Super People',\n",
       "   'box_art_url': 'https://static-cdn.jtvnw.net/ttv-boxart/19620578_IGDB-{width}x{height}.jpg'},\n",
       "  {'id': '417752',\n",
       "   'name': 'Talk Shows & Podcasts',\n",
       "   'box_art_url': 'https://static-cdn.jtvnw.net/ttv-boxart/417752-{width}x{height}.jpg'},\n",
       "  {'id': '263594215',\n",
       "   'name': 'Bloodborne PSX',\n",
       "   'box_art_url': 'https://static-cdn.jtvnw.net/ttv-boxart/263594215_IGDB-{width}x{height}.jpg'},\n",
       "  {'id': '513143',\n",
       "   'name': 'Teamfight Tactics',\n",
       "   'box_art_url': 'https://static-cdn.jtvnw.net/ttv-boxart/513143-{width}x{height}.jpg'},\n",
       "  {'id': '29307',\n",
       "   'name': 'Path of Exile',\n",
       "   'box_art_url': 'https://static-cdn.jtvnw.net/ttv-boxart/29307_IGDB-{width}x{height}.jpg'},\n",
       "  {'id': '29452',\n",
       "   'name': 'Virtual Casino',\n",
       "   'box_art_url': 'https://static-cdn.jtvnw.net/ttv-boxart/29452_IGDB-{width}x{height}.jpg'},\n",
       "  {'id': '513181',\n",
       "   'name': 'Genshin Impact',\n",
       "   'box_art_url': 'https://static-cdn.jtvnw.net/ttv-boxart/513181-{width}x{height}.jpg'},\n",
       "  {'id': '490100',\n",
       "   'name': 'LOST ARK',\n",
       "   'box_art_url': 'https://static-cdn.jtvnw.net/ttv-boxart/490100-{width}x{height}.jpg'},\n",
       "  {'id': '488190',\n",
       "   'name': 'Poker',\n",
       "   'box_art_url': 'https://static-cdn.jtvnw.net/ttv-boxart/488190-{width}x{height}.jpg'},\n",
       "  {'id': '509659',\n",
       "   'name': 'ASMR',\n",
       "   'box_art_url': 'https://static-cdn.jtvnw.net/ttv-boxart/509659-{width}x{height}.jpg'},\n",
       "  {'id': '493959',\n",
       "   'name': 'Red Dead Redemption 2',\n",
       "   'box_art_url': 'https://static-cdn.jtvnw.net/ttv-boxart/493959_IGDB-{width}x{height}.jpg'},\n",
       "  {'id': '497057',\n",
       "   'name': 'Destiny 2',\n",
       "   'box_art_url': 'https://static-cdn.jtvnw.net/ttv-boxart/497057-{width}x{height}.jpg'}],\n",
       " 'pagination': {'cursor': 'eyJzIjo0MCwiZCI6ZmFsc2UsInQiOnRydWV9'}}"
      ]
     },
     "execution_count": 3,
     "metadata": {},
     "output_type": "execute_result"
    }
   ],
   "source": [
    "requests.get(url, headers=headers).json()"
   ]
  },
  {
   "cell_type": "markdown",
   "id": "794ae283",
   "metadata": {},
   "source": [
    "Generating a new token for each call to the API"
   ]
  },
  {
   "cell_type": "code",
   "execution_count": 4,
   "id": "3a6444af",
   "metadata": {},
   "outputs": [],
   "source": [
    "AUTH_URL = \"https://id.twitch.tv/oauth2/token\"\n",
    "CLIENT_ID = os.environ.get('CLIENT_ID')\n",
    "CLIENT_SECRET = os.environ.get('CLIENT_SECRET')\n",
    "GRANT_TYPE = \"client_credentials\"\n",
    "\n",
    "# post a request to get a token using my client id and client secret\n",
    "params = {\n",
    "  \"client_id\": CLIENT_ID,\n",
    "  \"client_secret\": CLIENT_SECRET,\n",
    "  \"grant_type\": GRANT_TYPE\n",
    "}\n",
    "\n",
    "r1 = requests.post(url=AUTH_URL, params=params)\n",
    "token = r1.json()[\"access_token\"]"
   ]
  },
  {
   "cell_type": "code",
   "execution_count": 5,
   "id": "a0ea6055",
   "metadata": {
    "scrolled": true
   },
   "outputs": [
    {
     "data": {
      "text/plain": [
       "{'data': [{'broadcaster_language': 'en',\n",
       "   'broadcaster_login': 'retsu1337',\n",
       "   'display_name': 'Retsu1337',\n",
       "   'game_id': '0',\n",
       "   'game_name': '',\n",
       "   'id': '45370373',\n",
       "   'is_live': False,\n",
       "   'tag_ids': [],\n",
       "   'thumbnail_url': 'https://static-cdn.jtvnw.net/user-default-pictures-uv/de130ab0-def7-11e9-b668-784f43822e80-profile_image-300x300.png',\n",
       "   'title': '',\n",
       "   'started_at': ''},\n",
       "  {'broadcaster_language': 'en',\n",
       "   'broadcaster_login': 'reign1337',\n",
       "   'display_name': 'Reign1337',\n",
       "   'game_id': '509658',\n",
       "   'game_name': 'Just Chatting',\n",
       "   'id': '95707013',\n",
       "   'is_live': False,\n",
       "   'tag_ids': [],\n",
       "   'thumbnail_url': 'https://static-cdn.jtvnw.net/jtv_user_pictures/reign1337-profile_image-77df4c4bcf4e390e-300x300.png',\n",
       "   'title': 'quick workout',\n",
       "   'started_at': ''},\n",
       "  {'broadcaster_language': 'en',\n",
       "   'broadcaster_login': 'reisk1337',\n",
       "   'display_name': 'reisk1337',\n",
       "   'game_id': '0',\n",
       "   'game_name': '',\n",
       "   'id': '117996547',\n",
       "   'is_live': False,\n",
       "   'tag_ids': [],\n",
       "   'thumbnail_url': 'https://static-cdn.jtvnw.net/user-default-pictures-uv/cdd517fe-def4-11e9-948e-784f43822e80-profile_image-300x300.png',\n",
       "   'title': '',\n",
       "   'started_at': ''},\n",
       "  {'broadcaster_language': 'en',\n",
       "   'broadcaster_login': 'resu1337',\n",
       "   'display_name': 'resu1337',\n",
       "   'game_id': '0',\n",
       "   'game_name': '',\n",
       "   'id': '128735918',\n",
       "   'is_live': False,\n",
       "   'tag_ids': [],\n",
       "   'thumbnail_url': 'https://static-cdn.jtvnw.net/user-default-pictures-uv/ebe4cd89-b4f4-4cd9-adac-2f30151b4209-profile_image-300x300.png',\n",
       "   'title': '',\n",
       "   'started_at': ''},\n",
       "  {'broadcaster_language': '',\n",
       "   'broadcaster_login': 'reist1337',\n",
       "   'display_name': 'reist1337',\n",
       "   'game_id': '0',\n",
       "   'game_name': '',\n",
       "   'id': '137879096',\n",
       "   'is_live': False,\n",
       "   'tag_ids': [],\n",
       "   'thumbnail_url': 'https://static-cdn.jtvnw.net/user-default-pictures-uv/41780b5a-def8-11e9-94d9-784f43822e80-profile_image-300x300.png',\n",
       "   'title': '',\n",
       "   'started_at': ''},\n",
       "  {'broadcaster_language': '',\n",
       "   'broadcaster_login': 'rensu1337',\n",
       "   'display_name': 'rensu1337',\n",
       "   'game_id': '0',\n",
       "   'game_name': '',\n",
       "   'id': '138176067',\n",
       "   'is_live': False,\n",
       "   'tag_ids': [],\n",
       "   'thumbnail_url': 'https://static-cdn.jtvnw.net/user-default-pictures-uv/998f01ae-def8-11e9-b95c-784f43822e80-profile_image-300x300.png',\n",
       "   'title': '',\n",
       "   'started_at': ''},\n",
       "  {'broadcaster_language': '',\n",
       "   'broadcaster_login': 'resu13371',\n",
       "   'display_name': 'resu13371',\n",
       "   'game_id': '0',\n",
       "   'game_name': '',\n",
       "   'id': '169360499',\n",
       "   'is_live': False,\n",
       "   'tag_ids': [],\n",
       "   'thumbnail_url': 'https://static-cdn.jtvnw.net/user-default-pictures-uv/de130ab0-def7-11e9-b668-784f43822e80-profile_image-300x300.png',\n",
       "   'title': '',\n",
       "   'started_at': ''},\n",
       "  {'broadcaster_language': 'en',\n",
       "   'broadcaster_login': 'reimu1337',\n",
       "   'display_name': 'reimu1337',\n",
       "   'game_id': '0',\n",
       "   'game_name': '',\n",
       "   'id': '181909988',\n",
       "   'is_live': False,\n",
       "   'tag_ids': [],\n",
       "   'thumbnail_url': 'https://static-cdn.jtvnw.net/user-default-pictures-uv/13e5fa74-defa-11e9-809c-784f43822e80-profile_image-300x300.png',\n",
       "   'title': '',\n",
       "   'started_at': ''},\n",
       "  {'broadcaster_language': '',\n",
       "   'broadcaster_login': 'rekisu1337',\n",
       "   'display_name': 'rekisu1337',\n",
       "   'game_id': '0',\n",
       "   'game_name': '',\n",
       "   'id': '208106064',\n",
       "   'is_live': False,\n",
       "   'tag_ids': [],\n",
       "   'thumbnail_url': 'https://static-cdn.jtvnw.net/user-default-pictures-uv/ead5c8b2-a4c9-4724-b1dd-9f00b46cbd3d-profile_image-300x300.png',\n",
       "   'title': '',\n",
       "   'started_at': ''},\n",
       "  {'broadcaster_language': 'en',\n",
       "   'broadcaster_login': 'reiss1337',\n",
       "   'display_name': 'reiss1337',\n",
       "   'game_id': '33214',\n",
       "   'game_name': 'Fortnite',\n",
       "   'id': '246146116',\n",
       "   'is_live': False,\n",
       "   'tag_ids': [],\n",
       "   'thumbnail_url': 'https://static-cdn.jtvnw.net/jtv_user_pictures/54834c0d-31f1-4c89-9b53-c4c0cab7a958-profile_image-300x300.jpg',\n",
       "   'title': '[PT-BR] My life is a fucking shit ;(',\n",
       "   'started_at': ''},\n",
       "  {'broadcaster_language': '',\n",
       "   'broadcaster_login': 'reitsu1337',\n",
       "   'display_name': 'reitsu1337',\n",
       "   'game_id': '0',\n",
       "   'game_name': '',\n",
       "   'id': '412922292',\n",
       "   'is_live': False,\n",
       "   'tag_ids': [],\n",
       "   'thumbnail_url': 'https://static-cdn.jtvnw.net/user-default-pictures-uv/998f01ae-def8-11e9-b95c-784f43822e80-profile_image-300x300.png',\n",
       "   'title': '',\n",
       "   'started_at': ''},\n",
       "  {'broadcaster_language': '',\n",
       "   'broadcaster_login': 'reis1337',\n",
       "   'display_name': 'reis1337',\n",
       "   'game_id': '0',\n",
       "   'game_name': '',\n",
       "   'id': '548589721',\n",
       "   'is_live': False,\n",
       "   'tag_ids': [],\n",
       "   'thumbnail_url': 'https://static-cdn.jtvnw.net/user-default-pictures-uv/41780b5a-def8-11e9-94d9-784f43822e80-profile_image-300x300.png',\n",
       "   'title': '',\n",
       "   'started_at': ''},\n",
       "  {'broadcaster_language': '',\n",
       "   'broadcaster_login': 'reis13378',\n",
       "   'display_name': 'reis13378',\n",
       "   'game_id': '0',\n",
       "   'game_name': '',\n",
       "   'id': '575479224',\n",
       "   'is_live': False,\n",
       "   'tag_ids': [],\n",
       "   'thumbnail_url': 'https://static-cdn.jtvnw.net/user-default-pictures-uv/dbdc9198-def8-11e9-8681-784f43822e80-profile_image-300x300.png',\n",
       "   'title': '',\n",
       "   'started_at': ''},\n",
       "  {'broadcaster_language': 'en',\n",
       "   'broadcaster_login': 'reisu1337',\n",
       "   'display_name': 'Reisu1337',\n",
       "   'game_id': '27471',\n",
       "   'game_name': 'Minecraft',\n",
       "   'id': '576638480',\n",
       "   'is_live': False,\n",
       "   'tag_ids': [],\n",
       "   'thumbnail_url': 'https://static-cdn.jtvnw.net/jtv_user_pictures/b392c37a-f6ea-44fd-a756-9250d03222d8-profile_image-300x300.png',\n",
       "   'title': \"WE'RE BACK GUYS\",\n",
       "   'started_at': ''},\n",
       "  {'broadcaster_language': '',\n",
       "   'broadcaster_login': 'resu1337uwu',\n",
       "   'display_name': 'resu1337uwu',\n",
       "   'game_id': '0',\n",
       "   'game_name': '',\n",
       "   'id': '668154806',\n",
       "   'is_live': False,\n",
       "   'tag_ids': [],\n",
       "   'thumbnail_url': 'https://static-cdn.jtvnw.net/user-default-pictures-uv/ce57700a-def9-11e9-842d-784f43822e80-profile_image-300x300.png',\n",
       "   'title': '',\n",
       "   'started_at': ''},\n",
       "  {'broadcaster_language': '',\n",
       "   'broadcaster_login': 'reis133710',\n",
       "   'display_name': 'reis133710',\n",
       "   'game_id': '0',\n",
       "   'game_name': '',\n",
       "   'id': '744403965',\n",
       "   'is_live': False,\n",
       "   'tag_ids': [],\n",
       "   'thumbnail_url': 'https://static-cdn.jtvnw.net/user-default-pictures-uv/cdd517fe-def4-11e9-948e-784f43822e80-profile_image-300x300.png',\n",
       "   'title': '',\n",
       "   'started_at': ''},\n",
       "  {'broadcaster_language': 'en',\n",
       "   'broadcaster_login': 'reisu1324',\n",
       "   'display_name': 'reisu1324',\n",
       "   'game_id': '0',\n",
       "   'game_name': '',\n",
       "   'id': '757940545',\n",
       "   'is_live': False,\n",
       "   'tag_ids': [],\n",
       "   'thumbnail_url': 'https://static-cdn.jtvnw.net/jtv_user_pictures/eb7d0fb9-8b35-4612-841a-5faa70ef557e-profile_image-300x300.png',\n",
       "   'title': '',\n",
       "   'started_at': ''},\n",
       "  {'broadcaster_language': '',\n",
       "   'broadcaster_login': 'reis13377',\n",
       "   'display_name': 'reis13377',\n",
       "   'game_id': '0',\n",
       "   'game_name': '',\n",
       "   'id': '759085814',\n",
       "   'is_live': False,\n",
       "   'tag_ids': [],\n",
       "   'thumbnail_url': 'https://static-cdn.jtvnw.net/user-default-pictures-uv/cdd517fe-def4-11e9-948e-784f43822e80-profile_image-300x300.png',\n",
       "   'title': '',\n",
       "   'started_at': ''},\n",
       "  {'broadcaster_language': 'en',\n",
       "   'broadcaster_login': 'reisu1230',\n",
       "   'display_name': 'ミネルバ',\n",
       "   'game_id': '0',\n",
       "   'game_name': '',\n",
       "   'id': '157123019',\n",
       "   'is_live': False,\n",
       "   'tag_ids': [],\n",
       "   'thumbnail_url': 'https://static-cdn.jtvnw.net/user-default-pictures-uv/215b7342-def9-11e9-9a66-784f43822e80-profile_image-300x300.png',\n",
       "   'title': '',\n",
       "   'started_at': ''},\n",
       "  {'broadcaster_language': '',\n",
       "   'broadcaster_login': 'reisu12345',\n",
       "   'display_name': 'reisu12345',\n",
       "   'game_id': '0',\n",
       "   'game_name': '',\n",
       "   'id': '405192207',\n",
       "   'is_live': False,\n",
       "   'tag_ids': [],\n",
       "   'thumbnail_url': 'https://static-cdn.jtvnw.net/user-default-pictures-uv/41780b5a-def8-11e9-94d9-784f43822e80-profile_image-300x300.png',\n",
       "   'title': '',\n",
       "   'started_at': ''}],\n",
       " 'pagination': {'cursor': 'MjA='}}"
      ]
     },
     "execution_count": 5,
     "metadata": {},
     "output_type": "execute_result"
    }
   ],
   "source": [
    "# get request\n",
    "\n",
    "URL = \"https://api.twitch.tv/helix/search/channels?query=reisu1337\"\n",
    "\n",
    "headers = {\n",
    "    'Client-ID': CLIENT_ID,\n",
    "    'Authorization': 'Bearer ' + token\n",
    "}\n",
    "\n",
    "requests.get(URL, headers=headers).json()"
   ]
  },
  {
   "cell_type": "markdown",
   "id": "67748df3",
   "metadata": {},
   "source": [
    "## Framing the project"
   ]
  },
  {
   "cell_type": "markdown",
   "id": "9986aab8",
   "metadata": {},
   "source": [
    "In this section I will outline what I am aiming to achieve with this piece of work. In particular, I will describe:\n",
    "- The questions that I hope to answer\n",
    "- What data I will use to answer these questions"
   ]
  },
  {
   "cell_type": "markdown",
   "id": "cf48e096",
   "metadata": {},
   "source": [
    "### Questions/Hypothesis"
   ]
  },
  {
   "cell_type": "markdown",
   "id": "9274533d",
   "metadata": {},
   "source": [
    "#1 There is a positive relationship between minutes streamed and followers\n",
    "\n",
    "#2 Mature content is more popular\n",
    "\n",
    "#3 What is the best time for a streamer to go live?\n",
    "\n",
    "#4 What are the top games on Twitch?\n",
    "\n",
    "#5 Who is the most popular streamer on Twitch in terms of followers/subscriptions/views?\n"
   ]
  },
  {
   "cell_type": "markdown",
   "id": "1a052f87",
   "metadata": {},
   "source": [
    "### Data requirements"
   ]
  },
  {
   "cell_type": "markdown",
   "id": "58954d23",
   "metadata": {},
   "source": [
    "I will collect the data from the Twitch API"
   ]
  },
  {
   "cell_type": "markdown",
   "id": "44c2e93d",
   "metadata": {},
   "source": [
    "I will separate the data into two dataframes\n",
    "\n",
    "1. Channels\n",
    "- Channel Name\n",
    "- Channel Start Date (?)\n",
    "- Watch Time (minutes)\n",
    "- Stream Time (minutes)\n",
    "- Peak Viewers\n",
    "- Average Viewers\n",
    "- Followers\n",
    "- Followers gained\n",
    "- Views gained\n",
    "- Subscription count\n",
    "- Max subscription count (?)\n",
    "- Partnered\n",
    "- Mature\n",
    "\n",
    "2. Games\n",
    "- Game Name\n",
    "- Month (?)\n",
    "- Year (?)\n",
    "- Rank in the month\n",
    "- Hours watched\n",
    "- Hours streamed on twitch\n",
    "- Peak viewers\n",
    "- Peak Channels\n",
    "- Streamers\n",
    "- Average viewers"
   ]
  },
  {
   "cell_type": "markdown",
   "id": "c3c2610e",
   "metadata": {},
   "source": [
    "## Channel dataset"
   ]
  },
  {
   "cell_type": "markdown",
   "id": "814397be",
   "metadata": {},
   "source": [
    "### Get streams"
   ]
  },
  {
   "cell_type": "markdown",
   "id": "925dbbce",
   "metadata": {},
   "source": [
    "[Search channels](https://dev.twitch.tv/docs/api/reference#search-channels) gives us the channel ID and the channel name.\n",
    "[Get Users](https://dev.twitch.tv/docs/api/reference#get-users) gives us Views gained and stream created date."
   ]
  },
  {
   "cell_type": "markdown",
   "id": "00763689",
   "metadata": {},
   "source": [
    "Note: Twitch API has the [Get Streams](https://dev.twitch.tv/docs/api/reference#get-streams) endpoint. However, it only returns live streams. There is not an endpoint that returns all streams (live and offline). Therefore, I could collect a dataset by getting the top followed streams overtime and storing them in a CSV. \n",
    "\n",
    "For now, I will build out the analysis using just the live streams."
   ]
  },
  {
   "cell_type": "code",
   "execution_count": 6,
   "id": "5af64ac3",
   "metadata": {},
   "outputs": [],
   "source": [
    "headers = {\n",
    "    'Client-ID': CLIENT_ID,\n",
    "    'Authorization': 'Bearer ' + token\n",
    "}"
   ]
  },
  {
   "cell_type": "code",
   "execution_count": 7,
   "id": "ec6727f7",
   "metadata": {},
   "outputs": [],
   "source": [
    "def get_streams():\n",
    "    data=[]\n",
    "    cursor=''\n",
    "    i=0\n",
    "    \n",
    "    while i < 10: \n",
    "        URL = f\"https://api.twitch.tv/helix/streams?first=100&after={cursor}\"\n",
    "        response = requests.get(URL, headers=headers).json()\n",
    "\n",
    "        # append to df\n",
    "        for stream in response['data']:\n",
    "            user_id = stream['user_id']\n",
    "            stream_name = stream['user_name']\n",
    "            is_mature = stream['is_mature']\n",
    "            data.append([user_id, stream_name, is_mature])\n",
    "\n",
    "        # cursor\n",
    "        cursor = response['pagination']['cursor']\n",
    "        \n",
    "        i+=1\n",
    "    \n",
    "    df = pd.DataFrame(data, columns=['user_id', 'stream_name', 'is_mature'])\n",
    "        \n",
    "    return df\n",
    "\n",
    "    \n",
    "    \n",
    "    "
   ]
  },
  {
   "cell_type": "code",
   "execution_count": 8,
   "id": "3908db0d",
   "metadata": {},
   "outputs": [],
   "source": [
    "streams_df = get_streams()"
   ]
  },
  {
   "cell_type": "code",
   "execution_count": 9,
   "id": "6bf57a10",
   "metadata": {},
   "outputs": [
    {
     "data": {
      "text/html": [
       "<div>\n",
       "<style scoped>\n",
       "    .dataframe tbody tr th:only-of-type {\n",
       "        vertical-align: middle;\n",
       "    }\n",
       "\n",
       "    .dataframe tbody tr th {\n",
       "        vertical-align: top;\n",
       "    }\n",
       "\n",
       "    .dataframe thead th {\n",
       "        text-align: right;\n",
       "    }\n",
       "</style>\n",
       "<table border=\"1\" class=\"dataframe\">\n",
       "  <thead>\n",
       "    <tr style=\"text-align: right;\">\n",
       "      <th></th>\n",
       "      <th>user_id</th>\n",
       "      <th>stream_name</th>\n",
       "      <th>is_mature</th>\n",
       "    </tr>\n",
       "  </thead>\n",
       "  <tbody>\n",
       "    <tr>\n",
       "      <th>0</th>\n",
       "      <td>459331509</td>\n",
       "      <td>auronplay</td>\n",
       "      <td>False</td>\n",
       "    </tr>\n",
       "    <tr>\n",
       "      <th>1</th>\n",
       "      <td>71092938</td>\n",
       "      <td>xQcOW</td>\n",
       "      <td>False</td>\n",
       "    </tr>\n",
       "    <tr>\n",
       "      <th>2</th>\n",
       "      <td>22346597</td>\n",
       "      <td>LVPes</td>\n",
       "      <td>False</td>\n",
       "    </tr>\n",
       "    <tr>\n",
       "      <th>3</th>\n",
       "      <td>121510236</td>\n",
       "      <td>juansguarnizo</td>\n",
       "      <td>False</td>\n",
       "    </tr>\n",
       "    <tr>\n",
       "      <th>4</th>\n",
       "      <td>71190292</td>\n",
       "      <td>Trainwreckstv</td>\n",
       "      <td>True</td>\n",
       "    </tr>\n",
       "  </tbody>\n",
       "</table>\n",
       "</div>"
      ],
      "text/plain": [
       "     user_id    stream_name  is_mature\n",
       "0  459331509      auronplay      False\n",
       "1   71092938          xQcOW      False\n",
       "2   22346597          LVPes      False\n",
       "3  121510236  juansguarnizo      False\n",
       "4   71190292  Trainwreckstv       True"
      ]
     },
     "execution_count": 9,
     "metadata": {},
     "output_type": "execute_result"
    }
   ],
   "source": [
    "streams_df.head()"
   ]
  },
  {
   "cell_type": "code",
   "execution_count": 10,
   "id": "cc2ddb48",
   "metadata": {},
   "outputs": [
    {
     "data": {
      "text/plain": [
       "(998, 3)"
      ]
     },
     "execution_count": 10,
     "metadata": {},
     "output_type": "execute_result"
    }
   ],
   "source": [
    "streams_df.shape"
   ]
  },
  {
   "cell_type": "markdown",
   "id": "f56880bd",
   "metadata": {},
   "source": [
    "### Get stream additional stream info"
   ]
  },
  {
   "cell_type": "markdown",
   "id": "08c01bef",
   "metadata": {},
   "source": [
    "Now that we have the user_id of the top 1000 live streams, we can user the user id to pull other information."
   ]
  },
  {
   "cell_type": "code",
   "execution_count": 11,
   "id": "ee35d0ff",
   "metadata": {},
   "outputs": [],
   "source": [
    "def get_view_count():\n",
    "    data=[]\n",
    "    for user_id in streams_df['user_id']:\n",
    "        URL = f\"https://api.twitch.tv/helix/users?id={user_id}\"\n",
    "        response = requests.get(URL, headers=headers).json()\n",
    "        user_Fk = response['data'][0]['id']\n",
    "        view_count = response['data'][0]['view_count']\n",
    "        created_at_date = response['data'][0]['created_at']\n",
    "        data.append([user_Fk, view_count, created_at_date])\n",
    "    df = pd.DataFrame(data, columns=['user_id', 'view_count', 'created_at_date'])\n",
    "    return df"
   ]
  },
  {
   "cell_type": "code",
   "execution_count": 12,
   "id": "286eed6e",
   "metadata": {},
   "outputs": [
    {
     "ename": "IndexError",
     "evalue": "list index out of range",
     "output_type": "error",
     "traceback": [
      "\u001b[0;31m---------------------------------------------------------------------------\u001b[0m",
      "\u001b[0;31mIndexError\u001b[0m                                Traceback (most recent call last)",
      "\u001b[0;32m/tmp/ipykernel_1599/176682367.py\u001b[0m in \u001b[0;36m<module>\u001b[0;34m\u001b[0m\n\u001b[0;32m----> 1\u001b[0;31m \u001b[0mget_view_count\u001b[0m\u001b[0;34m(\u001b[0m\u001b[0;34m)\u001b[0m\u001b[0;34m\u001b[0m\u001b[0;34m\u001b[0m\u001b[0m\n\u001b[0m",
      "\u001b[0;32m/tmp/ipykernel_1599/2809631724.py\u001b[0m in \u001b[0;36mget_view_count\u001b[0;34m()\u001b[0m\n\u001b[1;32m      4\u001b[0m         \u001b[0mURL\u001b[0m \u001b[0;34m=\u001b[0m \u001b[0;34mf\"https://api.twitch.tv/helix/users?id={user_id}\"\u001b[0m\u001b[0;34m\u001b[0m\u001b[0;34m\u001b[0m\u001b[0m\n\u001b[1;32m      5\u001b[0m         \u001b[0mresponse\u001b[0m \u001b[0;34m=\u001b[0m \u001b[0mrequests\u001b[0m\u001b[0;34m.\u001b[0m\u001b[0mget\u001b[0m\u001b[0;34m(\u001b[0m\u001b[0mURL\u001b[0m\u001b[0;34m,\u001b[0m \u001b[0mheaders\u001b[0m\u001b[0;34m=\u001b[0m\u001b[0mheaders\u001b[0m\u001b[0;34m)\u001b[0m\u001b[0;34m.\u001b[0m\u001b[0mjson\u001b[0m\u001b[0;34m(\u001b[0m\u001b[0;34m)\u001b[0m\u001b[0;34m\u001b[0m\u001b[0;34m\u001b[0m\u001b[0m\n\u001b[0;32m----> 6\u001b[0;31m         \u001b[0muser_Fk\u001b[0m \u001b[0;34m=\u001b[0m \u001b[0mresponse\u001b[0m\u001b[0;34m[\u001b[0m\u001b[0;34m'data'\u001b[0m\u001b[0;34m]\u001b[0m\u001b[0;34m[\u001b[0m\u001b[0;36m0\u001b[0m\u001b[0;34m]\u001b[0m\u001b[0;34m[\u001b[0m\u001b[0;34m'id'\u001b[0m\u001b[0;34m]\u001b[0m\u001b[0;34m\u001b[0m\u001b[0;34m\u001b[0m\u001b[0m\n\u001b[0m\u001b[1;32m      7\u001b[0m         \u001b[0mview_count\u001b[0m \u001b[0;34m=\u001b[0m \u001b[0mresponse\u001b[0m\u001b[0;34m[\u001b[0m\u001b[0;34m'data'\u001b[0m\u001b[0;34m]\u001b[0m\u001b[0;34m[\u001b[0m\u001b[0;36m0\u001b[0m\u001b[0;34m]\u001b[0m\u001b[0;34m[\u001b[0m\u001b[0;34m'view_count'\u001b[0m\u001b[0;34m]\u001b[0m\u001b[0;34m\u001b[0m\u001b[0;34m\u001b[0m\u001b[0m\n\u001b[1;32m      8\u001b[0m         \u001b[0mcreated_at_date\u001b[0m \u001b[0;34m=\u001b[0m \u001b[0mresponse\u001b[0m\u001b[0;34m[\u001b[0m\u001b[0;34m'data'\u001b[0m\u001b[0;34m]\u001b[0m\u001b[0;34m[\u001b[0m\u001b[0;36m0\u001b[0m\u001b[0;34m]\u001b[0m\u001b[0;34m[\u001b[0m\u001b[0;34m'created_at'\u001b[0m\u001b[0;34m]\u001b[0m\u001b[0;34m\u001b[0m\u001b[0;34m\u001b[0m\u001b[0m\n",
      "\u001b[0;31mIndexError\u001b[0m: list index out of range"
     ]
    }
   ],
   "source": [
    "get_view_count()"
   ]
  },
  {
   "cell_type": "code",
   "execution_count": null,
   "id": "e0ec2187",
   "metadata": {},
   "outputs": [],
   "source": [
    "streams_df.merge(view_count_df, how=\"inner\", on=\"user_id\")"
   ]
  },
  {
   "cell_type": "code",
   "execution_count": 13,
   "id": "f572d6d8",
   "metadata": {},
   "outputs": [],
   "source": [
    "def get_sub_data():\n",
    "    data=[]\n",
    "    for user_id in streams_df['user_id']:\n",
    "        URL = f\"https://api.twitch.tv/helix/subscriptions?broadcaster_id={user_id}\"\n",
    "        response = requests.get(URL, headers=headers).json()\n",
    "        user_Fk = response['data'][0]['broadcaster_id']\n",
    "        total_subs = response['data'][0]['total']\n",
    "        data.append([user_Fk, total_subs])\n",
    "    df = pd.DataFrame(data, columns=['user_id', 'total_subs'])\n",
    "    return df"
   ]
  },
  {
   "cell_type": "code",
   "execution_count": 14,
   "id": "7bed130e",
   "metadata": {},
   "outputs": [],
   "source": [
    "def get_follower_data():\n",
    "    data=[]\n",
    "    for user_id in streams_df['user_id']:\n",
    "        URL = f\"https://api.twitch.tv/helix/users/follows?to_id={user_id}\"\n",
    "        response = requests.get(URL, headers=headers).json()\n",
    "        user_Fk = response['data'][0]['to_id']\n",
    "        total_followers = response['total']\n",
    "        data.append([user_Fk, total_followers])\n",
    "    df = pd.DataFrame(data, columns=['user_id', 'total_followers'])\n",
    "    return df"
   ]
  },
  {
   "cell_type": "code",
   "execution_count": null,
   "id": "4990308b",
   "metadata": {},
   "outputs": [],
   "source": [
    "get_follower_data()"
   ]
  },
  {
   "cell_type": "code",
   "execution_count": null,
   "id": "17c22dbc",
   "metadata": {},
   "outputs": [],
   "source": []
  }
 ],
 "metadata": {
  "kernelspec": {
   "display_name": "Python 3 (ipykernel)",
   "language": "python",
   "name": "python3"
  },
  "language_info": {
   "codemirror_mode": {
    "name": "ipython",
    "version": 3
   },
   "file_extension": ".py",
   "mimetype": "text/x-python",
   "name": "python",
   "nbconvert_exporter": "python",
   "pygments_lexer": "ipython3",
   "version": "3.8.12"
  },
  "toc": {
   "base_numbering": 1,
   "nav_menu": {},
   "number_sections": true,
   "sideBar": true,
   "skip_h1_title": false,
   "title_cell": "Table of Contents",
   "title_sidebar": "Contents",
   "toc_cell": false,
   "toc_position": {},
   "toc_section_display": true,
   "toc_window_display": true
  }
 },
 "nbformat": 4,
 "nbformat_minor": 5
}
