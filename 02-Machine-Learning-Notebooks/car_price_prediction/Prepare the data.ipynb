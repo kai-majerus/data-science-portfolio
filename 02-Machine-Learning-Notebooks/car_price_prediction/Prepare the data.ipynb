{
 "cells": [
  {
   "cell_type": "markdown",
   "id": "124f8bd2",
   "metadata": {},
   "source": [
    "# Load"
   ]
  },
  {
   "cell_type": "code",
   "execution_count": 58,
   "id": "d7c24abc",
   "metadata": {},
   "outputs": [],
   "source": [
    "import pandas as pd\n",
    "import numpy as np\n",
    "from numpy import mean\n",
    "from numpy import std\n",
    "\n",
    "import seaborn as sns\n",
    "import matplotlib.pyplot as plt\n",
    "\n",
    "from sklearn.model_selection import train_test_split\n",
    "from sklearn.linear_model import LinearRegression\n",
    "from sklearn.metrics import mean_absolute_error\n",
    "from sklearn.metrics import r2_score\n",
    "from sklearn.neighbors import LocalOutlierFactor\n",
    "from sklearn.model_selection import cross_validate\n",
    "\n",
    "# Feature selection\n",
    "from sklearn.feature_selection import SelectKBest\n",
    "from sklearn.feature_selection import f_classif\n",
    "from scipy.stats import spearmanr"
   ]
  },
  {
   "cell_type": "code",
   "execution_count": 2,
   "id": "29d222f0",
   "metadata": {},
   "outputs": [],
   "source": [
    "data = pd.read_csv(\"data/CarPrice_Assignment.csv\")"
   ]
  },
  {
   "cell_type": "markdown",
   "id": "4d772d56",
   "metadata": {},
   "source": [
    "# Data Preparation "
   ]
  },
  {
   "cell_type": "markdown",
   "id": "88dcf964",
   "metadata": {},
   "source": [
    "***Rows***\n",
    "- Null values\n",
    "- Remove duplicates\n",
    "- Outlier removal\n",
    "- Data sampling\n",
    "\n",
    "***Columns***\n",
    "- Feature selection\n",
    "- Polynomial features\n",
    "- One hot encoding\n",
    "\n",
    "***Values***\n",
    "- Data scaling\n",
    "- Change distribution\n",
    "- Imputation\n",
    "\n",
    "***Columns + Values***\n",
    "- Dimensionality reduction\n",
    "\n",
    "***Rows + Values***\n",
    "- Row consolidation"
   ]
  },
  {
   "cell_type": "markdown",
   "id": "bee86fff",
   "metadata": {},
   "source": [
    "## Rows"
   ]
  },
  {
   "cell_type": "markdown",
   "id": "e19f3bf3",
   "metadata": {},
   "source": [
    "### Null values"
   ]
  },
  {
   "cell_type": "code",
   "execution_count": 3,
   "id": "e0120169",
   "metadata": {
    "scrolled": false
   },
   "outputs": [
    {
     "data": {
      "text/plain": [
       "car_ID              0\n",
       "symboling           0\n",
       "CarName             0\n",
       "fueltype            0\n",
       "aspiration          0\n",
       "doornumber          0\n",
       "carbody             0\n",
       "drivewheel          0\n",
       "enginelocation      0\n",
       "wheelbase           0\n",
       "carlength           0\n",
       "carwidth            0\n",
       "carheight           0\n",
       "curbweight          0\n",
       "enginetype          0\n",
       "cylindernumber      0\n",
       "enginesize          0\n",
       "fuelsystem          0\n",
       "boreratio           0\n",
       "stroke              0\n",
       "compressionratio    0\n",
       "horsepower          0\n",
       "peakrpm             0\n",
       "citympg             0\n",
       "highwaympg          0\n",
       "price               0\n",
       "dtype: int64"
      ]
     },
     "execution_count": 3,
     "metadata": {},
     "output_type": "execute_result"
    }
   ],
   "source": [
    "data.isnull().sum()"
   ]
  },
  {
   "cell_type": "markdown",
   "id": "836c6402",
   "metadata": {},
   "source": [
    "### Duplicates"
   ]
  },
  {
   "cell_type": "code",
   "execution_count": 4,
   "id": "05711692",
   "metadata": {},
   "outputs": [
    {
     "data": {
      "text/plain": [
       "0"
      ]
     },
     "execution_count": 4,
     "metadata": {},
     "output_type": "execute_result"
    }
   ],
   "source": [
    "data.duplicated().sum()"
   ]
  },
  {
   "cell_type": "markdown",
   "id": "573f113d",
   "metadata": {},
   "source": [
    "There are no null values or duplicated rows, so we don't need to impute any values or remove rows at this stage. Next, let's look to see if there are any outliers in the data."
   ]
  },
  {
   "cell_type": "markdown",
   "id": "9a6db48c",
   "metadata": {},
   "source": [
    "### Outliers"
   ]
  },
  {
   "cell_type": "markdown",
   "id": "cfb3e55a",
   "metadata": {},
   "source": [
    "An outlier is an observation that is unlike the other observations. It is rare, or distinct, or does not fit in some way.\n",
    "\n",
    "We will generally define outliers as samples that are exceptionally far from the mainstream of the data.\n",
    "\n",
    "There is no precise way to define and identify outliers in general because of the specifics of each dataset. Instead, you, or a domain expert, must interpret the raw observations and decide whether a value is an outlier or not.\n",
    "\n",
    "Nevertheless, we can use statistical methods to identify observations that appear to be rare or unlikely given the available data.\n",
    "\n",
    "This does not mean that the values identified are outliers and should be removed. But, the tools described in this tutorial can be helpful in shedding light on rare events that may require a second look."
   ]
  },
  {
   "cell_type": "markdown",
   "id": "d3f1fed7",
   "metadata": {},
   "source": [
    "#### Method 1 - Standard Deviation Method"
   ]
  },
  {
   "cell_type": "markdown",
   "id": "4497f8c0",
   "metadata": {},
   "source": [
    "Given mu and sigma, a simple way to identify outliers is to compute a z-score for every xi, which is defined as the number of standard deviations away xi is from the mean. Data values that have a z-score sigma greater than a threshold, for example, of three, are declared to be outliers."
   ]
  },
  {
   "cell_type": "code",
   "execution_count": 43,
   "id": "50b613dc",
   "metadata": {},
   "outputs": [
    {
     "data": {
      "text/plain": [
       "['symboling',\n",
       " 'wheelbase',\n",
       " 'carlength',\n",
       " 'carwidth',\n",
       " 'carheight',\n",
       " 'curbweight',\n",
       " 'enginesize',\n",
       " 'boreratio',\n",
       " 'stroke',\n",
       " 'compressionratio',\n",
       " 'horsepower',\n",
       " 'peakrpm',\n",
       " 'citympg',\n",
       " 'highwaympg',\n",
       " 'price']"
      ]
     },
     "execution_count": 43,
     "metadata": {},
     "output_type": "execute_result"
    }
   ],
   "source": [
    "numeric_cols = data.select_dtypes(include=np.number).columns.tolist()\n",
    "numeric_cols.remove('car_ID')\n",
    "numeric_cols"
   ]
  },
  {
   "cell_type": "markdown",
   "id": "309c5d9e",
   "metadata": {},
   "source": [
    "We can calculate the mean and standard deviation of a given sample, then calculate the cut-off for identifying outliers as more than 3 standard deviations from the mean."
   ]
  },
  {
   "cell_type": "code",
   "execution_count": 44,
   "id": "3d9300f9",
   "metadata": {},
   "outputs": [],
   "source": [
    "numeric_with_price = data[numeric_cols]\n",
    "data_mean, data_std = mean(numeric_with_price), std(numeric_with_price)\n",
    "cut_off = data_std * 3\n",
    "lower, upper = data_mean - cut_off, data_mean + cut_off"
   ]
  },
  {
   "cell_type": "markdown",
   "id": "4b528920",
   "metadata": {},
   "source": [
    "We can then identify outliers as those examples that fall outside of the defined lower and upper limits."
   ]
  },
  {
   "cell_type": "code",
   "execution_count": 45,
   "id": "87e61d3b",
   "metadata": {},
   "outputs": [],
   "source": [
    "# identify outliers\n",
    "outliers_idx = []\n",
    "outlier_col = []\n",
    "for i, col in enumerate(numeric_cols):\n",
    "    for row, value in enumerate(numeric_with_price[col]):\n",
    "        if value < lower[i] or value > upper[i]:\n",
    "            outliers_idx.append(row)\n",
    "            outlier_col.append(col)"
   ]
  },
  {
   "cell_type": "code",
   "execution_count": 46,
   "id": "8cdac91a",
   "metadata": {
    "scrolled": true
   },
   "outputs": [
    {
     "data": {
      "text/plain": [
       "[73, 47, 48, 49, 73]"
      ]
     },
     "execution_count": 46,
     "metadata": {},
     "output_type": "execute_result"
    }
   ],
   "source": [
    "outliers_idx[:5]"
   ]
  },
  {
   "cell_type": "code",
   "execution_count": 47,
   "id": "056dcf30",
   "metadata": {},
   "outputs": [
    {
     "data": {
      "text/plain": [
       "['wheelbase', 'enginesize', 'enginesize', 'enginesize', 'enginesize']"
      ]
     },
     "execution_count": 47,
     "metadata": {},
     "output_type": "execute_result"
    }
   ],
   "source": [
    "outlier_col[:5]"
   ]
  },
  {
   "cell_type": "code",
   "execution_count": 48,
   "id": "de984dea",
   "metadata": {
    "scrolled": true
   },
   "outputs": [
    {
     "data": {
      "text/html": [
       "<div>\n",
       "<style scoped>\n",
       "    .dataframe tbody tr th:only-of-type {\n",
       "        vertical-align: middle;\n",
       "    }\n",
       "\n",
       "    .dataframe tbody tr th {\n",
       "        vertical-align: top;\n",
       "    }\n",
       "\n",
       "    .dataframe thead th {\n",
       "        text-align: right;\n",
       "    }\n",
       "</style>\n",
       "<table border=\"1\" class=\"dataframe\">\n",
       "  <thead>\n",
       "    <tr style=\"text-align: right;\">\n",
       "      <th></th>\n",
       "      <th>car_ID</th>\n",
       "      <th>symboling</th>\n",
       "      <th>CarName</th>\n",
       "      <th>fueltype</th>\n",
       "      <th>aspiration</th>\n",
       "      <th>doornumber</th>\n",
       "      <th>carbody</th>\n",
       "      <th>drivewheel</th>\n",
       "      <th>enginelocation</th>\n",
       "      <th>wheelbase</th>\n",
       "      <th>...</th>\n",
       "      <th>fuelsystem</th>\n",
       "      <th>boreratio</th>\n",
       "      <th>stroke</th>\n",
       "      <th>compressionratio</th>\n",
       "      <th>horsepower</th>\n",
       "      <th>peakrpm</th>\n",
       "      <th>citympg</th>\n",
       "      <th>highwaympg</th>\n",
       "      <th>price</th>\n",
       "      <th>outlier_reason</th>\n",
       "    </tr>\n",
       "  </thead>\n",
       "  <tbody>\n",
       "    <tr>\n",
       "      <th>73</th>\n",
       "      <td>74</td>\n",
       "      <td>0</td>\n",
       "      <td>buick century special</td>\n",
       "      <td>gas</td>\n",
       "      <td>std</td>\n",
       "      <td>four</td>\n",
       "      <td>sedan</td>\n",
       "      <td>rwd</td>\n",
       "      <td>front</td>\n",
       "      <td>120.9</td>\n",
       "      <td>...</td>\n",
       "      <td>mpfi</td>\n",
       "      <td>3.80</td>\n",
       "      <td>3.35</td>\n",
       "      <td>8.0</td>\n",
       "      <td>184</td>\n",
       "      <td>4500</td>\n",
       "      <td>14</td>\n",
       "      <td>16</td>\n",
       "      <td>40960.0</td>\n",
       "      <td>wheelbase</td>\n",
       "    </tr>\n",
       "    <tr>\n",
       "      <th>47</th>\n",
       "      <td>48</td>\n",
       "      <td>0</td>\n",
       "      <td>jaguar xj</td>\n",
       "      <td>gas</td>\n",
       "      <td>std</td>\n",
       "      <td>four</td>\n",
       "      <td>sedan</td>\n",
       "      <td>rwd</td>\n",
       "      <td>front</td>\n",
       "      <td>113.0</td>\n",
       "      <td>...</td>\n",
       "      <td>mpfi</td>\n",
       "      <td>3.63</td>\n",
       "      <td>4.17</td>\n",
       "      <td>8.1</td>\n",
       "      <td>176</td>\n",
       "      <td>4750</td>\n",
       "      <td>15</td>\n",
       "      <td>19</td>\n",
       "      <td>32250.0</td>\n",
       "      <td>enginesize</td>\n",
       "    </tr>\n",
       "    <tr>\n",
       "      <th>48</th>\n",
       "      <td>49</td>\n",
       "      <td>0</td>\n",
       "      <td>jaguar xf</td>\n",
       "      <td>gas</td>\n",
       "      <td>std</td>\n",
       "      <td>four</td>\n",
       "      <td>sedan</td>\n",
       "      <td>rwd</td>\n",
       "      <td>front</td>\n",
       "      <td>113.0</td>\n",
       "      <td>...</td>\n",
       "      <td>mpfi</td>\n",
       "      <td>3.63</td>\n",
       "      <td>4.17</td>\n",
       "      <td>8.1</td>\n",
       "      <td>176</td>\n",
       "      <td>4750</td>\n",
       "      <td>15</td>\n",
       "      <td>19</td>\n",
       "      <td>35550.0</td>\n",
       "      <td>enginesize</td>\n",
       "    </tr>\n",
       "    <tr>\n",
       "      <th>49</th>\n",
       "      <td>50</td>\n",
       "      <td>0</td>\n",
       "      <td>jaguar xk</td>\n",
       "      <td>gas</td>\n",
       "      <td>std</td>\n",
       "      <td>two</td>\n",
       "      <td>sedan</td>\n",
       "      <td>rwd</td>\n",
       "      <td>front</td>\n",
       "      <td>102.0</td>\n",
       "      <td>...</td>\n",
       "      <td>mpfi</td>\n",
       "      <td>3.54</td>\n",
       "      <td>2.76</td>\n",
       "      <td>11.5</td>\n",
       "      <td>262</td>\n",
       "      <td>5000</td>\n",
       "      <td>13</td>\n",
       "      <td>17</td>\n",
       "      <td>36000.0</td>\n",
       "      <td>enginesize</td>\n",
       "    </tr>\n",
       "    <tr>\n",
       "      <th>73</th>\n",
       "      <td>74</td>\n",
       "      <td>0</td>\n",
       "      <td>buick century special</td>\n",
       "      <td>gas</td>\n",
       "      <td>std</td>\n",
       "      <td>four</td>\n",
       "      <td>sedan</td>\n",
       "      <td>rwd</td>\n",
       "      <td>front</td>\n",
       "      <td>120.9</td>\n",
       "      <td>...</td>\n",
       "      <td>mpfi</td>\n",
       "      <td>3.80</td>\n",
       "      <td>3.35</td>\n",
       "      <td>8.0</td>\n",
       "      <td>184</td>\n",
       "      <td>4500</td>\n",
       "      <td>14</td>\n",
       "      <td>16</td>\n",
       "      <td>40960.0</td>\n",
       "      <td>enginesize</td>\n",
       "    </tr>\n",
       "    <tr>\n",
       "      <th>74</th>\n",
       "      <td>75</td>\n",
       "      <td>1</td>\n",
       "      <td>buick regal sport coupe (turbo)</td>\n",
       "      <td>gas</td>\n",
       "      <td>std</td>\n",
       "      <td>two</td>\n",
       "      <td>hardtop</td>\n",
       "      <td>rwd</td>\n",
       "      <td>front</td>\n",
       "      <td>112.0</td>\n",
       "      <td>...</td>\n",
       "      <td>mpfi</td>\n",
       "      <td>3.80</td>\n",
       "      <td>3.35</td>\n",
       "      <td>8.0</td>\n",
       "      <td>184</td>\n",
       "      <td>4500</td>\n",
       "      <td>14</td>\n",
       "      <td>16</td>\n",
       "      <td>45400.0</td>\n",
       "      <td>enginesize</td>\n",
       "    </tr>\n",
       "    <tr>\n",
       "      <th>111</th>\n",
       "      <td>112</td>\n",
       "      <td>0</td>\n",
       "      <td>peugeot 504</td>\n",
       "      <td>gas</td>\n",
       "      <td>std</td>\n",
       "      <td>four</td>\n",
       "      <td>sedan</td>\n",
       "      <td>rwd</td>\n",
       "      <td>front</td>\n",
       "      <td>107.9</td>\n",
       "      <td>...</td>\n",
       "      <td>mpfi</td>\n",
       "      <td>3.46</td>\n",
       "      <td>2.19</td>\n",
       "      <td>8.4</td>\n",
       "      <td>95</td>\n",
       "      <td>5000</td>\n",
       "      <td>19</td>\n",
       "      <td>24</td>\n",
       "      <td>15580.0</td>\n",
       "      <td>stroke</td>\n",
       "    </tr>\n",
       "    <tr>\n",
       "      <th>113</th>\n",
       "      <td>114</td>\n",
       "      <td>0</td>\n",
       "      <td>peugeot 504</td>\n",
       "      <td>gas</td>\n",
       "      <td>std</td>\n",
       "      <td>four</td>\n",
       "      <td>wagon</td>\n",
       "      <td>rwd</td>\n",
       "      <td>front</td>\n",
       "      <td>114.2</td>\n",
       "      <td>...</td>\n",
       "      <td>mpfi</td>\n",
       "      <td>3.46</td>\n",
       "      <td>2.19</td>\n",
       "      <td>8.4</td>\n",
       "      <td>95</td>\n",
       "      <td>5000</td>\n",
       "      <td>19</td>\n",
       "      <td>24</td>\n",
       "      <td>16695.0</td>\n",
       "      <td>stroke</td>\n",
       "    </tr>\n",
       "    <tr>\n",
       "      <th>134</th>\n",
       "      <td>135</td>\n",
       "      <td>3</td>\n",
       "      <td>saab 99le</td>\n",
       "      <td>gas</td>\n",
       "      <td>std</td>\n",
       "      <td>two</td>\n",
       "      <td>hatchback</td>\n",
       "      <td>fwd</td>\n",
       "      <td>front</td>\n",
       "      <td>99.1</td>\n",
       "      <td>...</td>\n",
       "      <td>mpfi</td>\n",
       "      <td>2.54</td>\n",
       "      <td>2.07</td>\n",
       "      <td>9.3</td>\n",
       "      <td>110</td>\n",
       "      <td>5250</td>\n",
       "      <td>21</td>\n",
       "      <td>28</td>\n",
       "      <td>15040.0</td>\n",
       "      <td>stroke</td>\n",
       "    </tr>\n",
       "    <tr>\n",
       "      <th>63</th>\n",
       "      <td>64</td>\n",
       "      <td>0</td>\n",
       "      <td>mazda glc deluxe</td>\n",
       "      <td>diesel</td>\n",
       "      <td>std</td>\n",
       "      <td>four</td>\n",
       "      <td>sedan</td>\n",
       "      <td>fwd</td>\n",
       "      <td>front</td>\n",
       "      <td>98.8</td>\n",
       "      <td>...</td>\n",
       "      <td>idi</td>\n",
       "      <td>3.39</td>\n",
       "      <td>3.39</td>\n",
       "      <td>22.7</td>\n",
       "      <td>64</td>\n",
       "      <td>4650</td>\n",
       "      <td>36</td>\n",
       "      <td>42</td>\n",
       "      <td>10795.0</td>\n",
       "      <td>compressionratio</td>\n",
       "    </tr>\n",
       "    <tr>\n",
       "      <th>158</th>\n",
       "      <td>159</td>\n",
       "      <td>0</td>\n",
       "      <td>toyota corona</td>\n",
       "      <td>diesel</td>\n",
       "      <td>std</td>\n",
       "      <td>four</td>\n",
       "      <td>sedan</td>\n",
       "      <td>fwd</td>\n",
       "      <td>front</td>\n",
       "      <td>95.7</td>\n",
       "      <td>...</td>\n",
       "      <td>idi</td>\n",
       "      <td>3.27</td>\n",
       "      <td>3.35</td>\n",
       "      <td>22.5</td>\n",
       "      <td>56</td>\n",
       "      <td>4500</td>\n",
       "      <td>34</td>\n",
       "      <td>36</td>\n",
       "      <td>7898.0</td>\n",
       "      <td>compressionratio</td>\n",
       "    </tr>\n",
       "    <tr>\n",
       "      <th>159</th>\n",
       "      <td>160</td>\n",
       "      <td>0</td>\n",
       "      <td>toyota corolla</td>\n",
       "      <td>diesel</td>\n",
       "      <td>std</td>\n",
       "      <td>four</td>\n",
       "      <td>hatchback</td>\n",
       "      <td>fwd</td>\n",
       "      <td>front</td>\n",
       "      <td>95.7</td>\n",
       "      <td>...</td>\n",
       "      <td>idi</td>\n",
       "      <td>3.27</td>\n",
       "      <td>3.35</td>\n",
       "      <td>22.5</td>\n",
       "      <td>56</td>\n",
       "      <td>4500</td>\n",
       "      <td>38</td>\n",
       "      <td>47</td>\n",
       "      <td>7788.0</td>\n",
       "      <td>compressionratio</td>\n",
       "    </tr>\n",
       "    <tr>\n",
       "      <th>174</th>\n",
       "      <td>175</td>\n",
       "      <td>-1</td>\n",
       "      <td>toyota celica gt</td>\n",
       "      <td>diesel</td>\n",
       "      <td>turbo</td>\n",
       "      <td>four</td>\n",
       "      <td>sedan</td>\n",
       "      <td>fwd</td>\n",
       "      <td>front</td>\n",
       "      <td>102.4</td>\n",
       "      <td>...</td>\n",
       "      <td>idi</td>\n",
       "      <td>3.27</td>\n",
       "      <td>3.35</td>\n",
       "      <td>22.5</td>\n",
       "      <td>73</td>\n",
       "      <td>4500</td>\n",
       "      <td>30</td>\n",
       "      <td>33</td>\n",
       "      <td>10698.0</td>\n",
       "      <td>compressionratio</td>\n",
       "    </tr>\n",
       "    <tr>\n",
       "      <th>182</th>\n",
       "      <td>183</td>\n",
       "      <td>2</td>\n",
       "      <td>vokswagen rabbit</td>\n",
       "      <td>diesel</td>\n",
       "      <td>std</td>\n",
       "      <td>two</td>\n",
       "      <td>sedan</td>\n",
       "      <td>fwd</td>\n",
       "      <td>front</td>\n",
       "      <td>97.3</td>\n",
       "      <td>...</td>\n",
       "      <td>idi</td>\n",
       "      <td>3.01</td>\n",
       "      <td>3.40</td>\n",
       "      <td>23.0</td>\n",
       "      <td>52</td>\n",
       "      <td>4800</td>\n",
       "      <td>37</td>\n",
       "      <td>46</td>\n",
       "      <td>7775.0</td>\n",
       "      <td>compressionratio</td>\n",
       "    </tr>\n",
       "    <tr>\n",
       "      <th>184</th>\n",
       "      <td>185</td>\n",
       "      <td>2</td>\n",
       "      <td>volkswagen model 111</td>\n",
       "      <td>diesel</td>\n",
       "      <td>std</td>\n",
       "      <td>four</td>\n",
       "      <td>sedan</td>\n",
       "      <td>fwd</td>\n",
       "      <td>front</td>\n",
       "      <td>97.3</td>\n",
       "      <td>...</td>\n",
       "      <td>idi</td>\n",
       "      <td>3.01</td>\n",
       "      <td>3.40</td>\n",
       "      <td>23.0</td>\n",
       "      <td>52</td>\n",
       "      <td>4800</td>\n",
       "      <td>37</td>\n",
       "      <td>46</td>\n",
       "      <td>7995.0</td>\n",
       "      <td>compressionratio</td>\n",
       "    </tr>\n",
       "    <tr>\n",
       "      <th>187</th>\n",
       "      <td>188</td>\n",
       "      <td>2</td>\n",
       "      <td>volkswagen super beetle</td>\n",
       "      <td>diesel</td>\n",
       "      <td>turbo</td>\n",
       "      <td>four</td>\n",
       "      <td>sedan</td>\n",
       "      <td>fwd</td>\n",
       "      <td>front</td>\n",
       "      <td>97.3</td>\n",
       "      <td>...</td>\n",
       "      <td>idi</td>\n",
       "      <td>3.01</td>\n",
       "      <td>3.40</td>\n",
       "      <td>23.0</td>\n",
       "      <td>68</td>\n",
       "      <td>4500</td>\n",
       "      <td>37</td>\n",
       "      <td>42</td>\n",
       "      <td>9495.0</td>\n",
       "      <td>compressionratio</td>\n",
       "    </tr>\n",
       "    <tr>\n",
       "      <th>192</th>\n",
       "      <td>193</td>\n",
       "      <td>0</td>\n",
       "      <td>volkswagen rabbit custom</td>\n",
       "      <td>diesel</td>\n",
       "      <td>turbo</td>\n",
       "      <td>four</td>\n",
       "      <td>sedan</td>\n",
       "      <td>fwd</td>\n",
       "      <td>front</td>\n",
       "      <td>100.4</td>\n",
       "      <td>...</td>\n",
       "      <td>idi</td>\n",
       "      <td>3.01</td>\n",
       "      <td>3.40</td>\n",
       "      <td>23.0</td>\n",
       "      <td>68</td>\n",
       "      <td>4500</td>\n",
       "      <td>33</td>\n",
       "      <td>38</td>\n",
       "      <td>13845.0</td>\n",
       "      <td>compressionratio</td>\n",
       "    </tr>\n",
       "    <tr>\n",
       "      <th>203</th>\n",
       "      <td>204</td>\n",
       "      <td>-1</td>\n",
       "      <td>volvo 246</td>\n",
       "      <td>diesel</td>\n",
       "      <td>turbo</td>\n",
       "      <td>four</td>\n",
       "      <td>sedan</td>\n",
       "      <td>rwd</td>\n",
       "      <td>front</td>\n",
       "      <td>109.1</td>\n",
       "      <td>...</td>\n",
       "      <td>idi</td>\n",
       "      <td>3.01</td>\n",
       "      <td>3.40</td>\n",
       "      <td>23.0</td>\n",
       "      <td>106</td>\n",
       "      <td>4800</td>\n",
       "      <td>26</td>\n",
       "      <td>27</td>\n",
       "      <td>22470.0</td>\n",
       "      <td>compressionratio</td>\n",
       "    </tr>\n",
       "    <tr>\n",
       "      <th>49</th>\n",
       "      <td>50</td>\n",
       "      <td>0</td>\n",
       "      <td>jaguar xk</td>\n",
       "      <td>gas</td>\n",
       "      <td>std</td>\n",
       "      <td>two</td>\n",
       "      <td>sedan</td>\n",
       "      <td>rwd</td>\n",
       "      <td>front</td>\n",
       "      <td>102.0</td>\n",
       "      <td>...</td>\n",
       "      <td>mpfi</td>\n",
       "      <td>3.54</td>\n",
       "      <td>2.76</td>\n",
       "      <td>11.5</td>\n",
       "      <td>262</td>\n",
       "      <td>5000</td>\n",
       "      <td>13</td>\n",
       "      <td>17</td>\n",
       "      <td>36000.0</td>\n",
       "      <td>horsepower</td>\n",
       "    </tr>\n",
       "    <tr>\n",
       "      <th>129</th>\n",
       "      <td>130</td>\n",
       "      <td>1</td>\n",
       "      <td>porsche cayenne</td>\n",
       "      <td>gas</td>\n",
       "      <td>std</td>\n",
       "      <td>two</td>\n",
       "      <td>hatchback</td>\n",
       "      <td>rwd</td>\n",
       "      <td>front</td>\n",
       "      <td>98.4</td>\n",
       "      <td>...</td>\n",
       "      <td>mpfi</td>\n",
       "      <td>3.94</td>\n",
       "      <td>3.11</td>\n",
       "      <td>10.0</td>\n",
       "      <td>288</td>\n",
       "      <td>5750</td>\n",
       "      <td>17</td>\n",
       "      <td>28</td>\n",
       "      <td>31400.5</td>\n",
       "      <td>horsepower</td>\n",
       "    </tr>\n",
       "    <tr>\n",
       "      <th>165</th>\n",
       "      <td>166</td>\n",
       "      <td>1</td>\n",
       "      <td>toyota celica gt liftback</td>\n",
       "      <td>gas</td>\n",
       "      <td>std</td>\n",
       "      <td>two</td>\n",
       "      <td>sedan</td>\n",
       "      <td>rwd</td>\n",
       "      <td>front</td>\n",
       "      <td>94.5</td>\n",
       "      <td>...</td>\n",
       "      <td>mpfi</td>\n",
       "      <td>3.24</td>\n",
       "      <td>3.08</td>\n",
       "      <td>9.4</td>\n",
       "      <td>112</td>\n",
       "      <td>6600</td>\n",
       "      <td>26</td>\n",
       "      <td>29</td>\n",
       "      <td>9298.0</td>\n",
       "      <td>peakrpm</td>\n",
       "    </tr>\n",
       "    <tr>\n",
       "      <th>166</th>\n",
       "      <td>167</td>\n",
       "      <td>1</td>\n",
       "      <td>toyota corolla tercel</td>\n",
       "      <td>gas</td>\n",
       "      <td>std</td>\n",
       "      <td>two</td>\n",
       "      <td>hatchback</td>\n",
       "      <td>rwd</td>\n",
       "      <td>front</td>\n",
       "      <td>94.5</td>\n",
       "      <td>...</td>\n",
       "      <td>mpfi</td>\n",
       "      <td>3.24</td>\n",
       "      <td>3.08</td>\n",
       "      <td>9.4</td>\n",
       "      <td>112</td>\n",
       "      <td>6600</td>\n",
       "      <td>26</td>\n",
       "      <td>29</td>\n",
       "      <td>9538.0</td>\n",
       "      <td>peakrpm</td>\n",
       "    </tr>\n",
       "    <tr>\n",
       "      <th>18</th>\n",
       "      <td>19</td>\n",
       "      <td>2</td>\n",
       "      <td>chevrolet impala</td>\n",
       "      <td>gas</td>\n",
       "      <td>std</td>\n",
       "      <td>two</td>\n",
       "      <td>hatchback</td>\n",
       "      <td>fwd</td>\n",
       "      <td>front</td>\n",
       "      <td>88.4</td>\n",
       "      <td>...</td>\n",
       "      <td>2bbl</td>\n",
       "      <td>2.91</td>\n",
       "      <td>3.03</td>\n",
       "      <td>9.5</td>\n",
       "      <td>48</td>\n",
       "      <td>5100</td>\n",
       "      <td>47</td>\n",
       "      <td>53</td>\n",
       "      <td>5151.0</td>\n",
       "      <td>citympg</td>\n",
       "    </tr>\n",
       "    <tr>\n",
       "      <th>30</th>\n",
       "      <td>31</td>\n",
       "      <td>2</td>\n",
       "      <td>honda civic</td>\n",
       "      <td>gas</td>\n",
       "      <td>std</td>\n",
       "      <td>two</td>\n",
       "      <td>hatchback</td>\n",
       "      <td>fwd</td>\n",
       "      <td>front</td>\n",
       "      <td>86.6</td>\n",
       "      <td>...</td>\n",
       "      <td>1bbl</td>\n",
       "      <td>2.91</td>\n",
       "      <td>3.41</td>\n",
       "      <td>9.6</td>\n",
       "      <td>58</td>\n",
       "      <td>4800</td>\n",
       "      <td>49</td>\n",
       "      <td>54</td>\n",
       "      <td>6479.0</td>\n",
       "      <td>citympg</td>\n",
       "    </tr>\n",
       "    <tr>\n",
       "      <th>90</th>\n",
       "      <td>91</td>\n",
       "      <td>1</td>\n",
       "      <td>nissan gt-r</td>\n",
       "      <td>diesel</td>\n",
       "      <td>std</td>\n",
       "      <td>two</td>\n",
       "      <td>sedan</td>\n",
       "      <td>fwd</td>\n",
       "      <td>front</td>\n",
       "      <td>94.5</td>\n",
       "      <td>...</td>\n",
       "      <td>idi</td>\n",
       "      <td>2.99</td>\n",
       "      <td>3.47</td>\n",
       "      <td>21.9</td>\n",
       "      <td>55</td>\n",
       "      <td>4800</td>\n",
       "      <td>45</td>\n",
       "      <td>50</td>\n",
       "      <td>7099.0</td>\n",
       "      <td>citympg</td>\n",
       "    </tr>\n",
       "    <tr>\n",
       "      <th>18</th>\n",
       "      <td>19</td>\n",
       "      <td>2</td>\n",
       "      <td>chevrolet impala</td>\n",
       "      <td>gas</td>\n",
       "      <td>std</td>\n",
       "      <td>two</td>\n",
       "      <td>hatchback</td>\n",
       "      <td>fwd</td>\n",
       "      <td>front</td>\n",
       "      <td>88.4</td>\n",
       "      <td>...</td>\n",
       "      <td>2bbl</td>\n",
       "      <td>2.91</td>\n",
       "      <td>3.03</td>\n",
       "      <td>9.5</td>\n",
       "      <td>48</td>\n",
       "      <td>5100</td>\n",
       "      <td>47</td>\n",
       "      <td>53</td>\n",
       "      <td>5151.0</td>\n",
       "      <td>highwaympg</td>\n",
       "    </tr>\n",
       "    <tr>\n",
       "      <th>30</th>\n",
       "      <td>31</td>\n",
       "      <td>2</td>\n",
       "      <td>honda civic</td>\n",
       "      <td>gas</td>\n",
       "      <td>std</td>\n",
       "      <td>two</td>\n",
       "      <td>hatchback</td>\n",
       "      <td>fwd</td>\n",
       "      <td>front</td>\n",
       "      <td>86.6</td>\n",
       "      <td>...</td>\n",
       "      <td>1bbl</td>\n",
       "      <td>2.91</td>\n",
       "      <td>3.41</td>\n",
       "      <td>9.6</td>\n",
       "      <td>58</td>\n",
       "      <td>4800</td>\n",
       "      <td>49</td>\n",
       "      <td>54</td>\n",
       "      <td>6479.0</td>\n",
       "      <td>highwaympg</td>\n",
       "    </tr>\n",
       "    <tr>\n",
       "      <th>16</th>\n",
       "      <td>17</td>\n",
       "      <td>0</td>\n",
       "      <td>bmw x5</td>\n",
       "      <td>gas</td>\n",
       "      <td>std</td>\n",
       "      <td>two</td>\n",
       "      <td>sedan</td>\n",
       "      <td>rwd</td>\n",
       "      <td>front</td>\n",
       "      <td>103.5</td>\n",
       "      <td>...</td>\n",
       "      <td>mpfi</td>\n",
       "      <td>3.62</td>\n",
       "      <td>3.39</td>\n",
       "      <td>8.0</td>\n",
       "      <td>182</td>\n",
       "      <td>5400</td>\n",
       "      <td>16</td>\n",
       "      <td>22</td>\n",
       "      <td>41315.0</td>\n",
       "      <td>price</td>\n",
       "    </tr>\n",
       "    <tr>\n",
       "      <th>73</th>\n",
       "      <td>74</td>\n",
       "      <td>0</td>\n",
       "      <td>buick century special</td>\n",
       "      <td>gas</td>\n",
       "      <td>std</td>\n",
       "      <td>four</td>\n",
       "      <td>sedan</td>\n",
       "      <td>rwd</td>\n",
       "      <td>front</td>\n",
       "      <td>120.9</td>\n",
       "      <td>...</td>\n",
       "      <td>mpfi</td>\n",
       "      <td>3.80</td>\n",
       "      <td>3.35</td>\n",
       "      <td>8.0</td>\n",
       "      <td>184</td>\n",
       "      <td>4500</td>\n",
       "      <td>14</td>\n",
       "      <td>16</td>\n",
       "      <td>40960.0</td>\n",
       "      <td>price</td>\n",
       "    </tr>\n",
       "    <tr>\n",
       "      <th>74</th>\n",
       "      <td>75</td>\n",
       "      <td>1</td>\n",
       "      <td>buick regal sport coupe (turbo)</td>\n",
       "      <td>gas</td>\n",
       "      <td>std</td>\n",
       "      <td>two</td>\n",
       "      <td>hardtop</td>\n",
       "      <td>rwd</td>\n",
       "      <td>front</td>\n",
       "      <td>112.0</td>\n",
       "      <td>...</td>\n",
       "      <td>mpfi</td>\n",
       "      <td>3.80</td>\n",
       "      <td>3.35</td>\n",
       "      <td>8.0</td>\n",
       "      <td>184</td>\n",
       "      <td>4500</td>\n",
       "      <td>14</td>\n",
       "      <td>16</td>\n",
       "      <td>45400.0</td>\n",
       "      <td>price</td>\n",
       "    </tr>\n",
       "  </tbody>\n",
       "</table>\n",
       "<p>30 rows × 27 columns</p>\n",
       "</div>"
      ],
      "text/plain": [
       "     car_ID  symboling                          CarName fueltype aspiration  \\\n",
       "73       74          0            buick century special      gas        std   \n",
       "47       48          0                        jaguar xj      gas        std   \n",
       "48       49          0                        jaguar xf      gas        std   \n",
       "49       50          0                        jaguar xk      gas        std   \n",
       "73       74          0            buick century special      gas        std   \n",
       "74       75          1  buick regal sport coupe (turbo)      gas        std   \n",
       "111     112          0                      peugeot 504      gas        std   \n",
       "113     114          0                      peugeot 504      gas        std   \n",
       "134     135          3                        saab 99le      gas        std   \n",
       "63       64          0                 mazda glc deluxe   diesel        std   \n",
       "158     159          0                    toyota corona   diesel        std   \n",
       "159     160          0                   toyota corolla   diesel        std   \n",
       "174     175         -1                 toyota celica gt   diesel      turbo   \n",
       "182     183          2                 vokswagen rabbit   diesel        std   \n",
       "184     185          2             volkswagen model 111   diesel        std   \n",
       "187     188          2          volkswagen super beetle   diesel      turbo   \n",
       "192     193          0         volkswagen rabbit custom   diesel      turbo   \n",
       "203     204         -1                        volvo 246   diesel      turbo   \n",
       "49       50          0                        jaguar xk      gas        std   \n",
       "129     130          1                  porsche cayenne      gas        std   \n",
       "165     166          1        toyota celica gt liftback      gas        std   \n",
       "166     167          1            toyota corolla tercel      gas        std   \n",
       "18       19          2                 chevrolet impala      gas        std   \n",
       "30       31          2                      honda civic      gas        std   \n",
       "90       91          1                      nissan gt-r   diesel        std   \n",
       "18       19          2                 chevrolet impala      gas        std   \n",
       "30       31          2                      honda civic      gas        std   \n",
       "16       17          0                           bmw x5      gas        std   \n",
       "73       74          0            buick century special      gas        std   \n",
       "74       75          1  buick regal sport coupe (turbo)      gas        std   \n",
       "\n",
       "    doornumber    carbody drivewheel enginelocation  wheelbase  ...  \\\n",
       "73        four      sedan        rwd          front      120.9  ...   \n",
       "47        four      sedan        rwd          front      113.0  ...   \n",
       "48        four      sedan        rwd          front      113.0  ...   \n",
       "49         two      sedan        rwd          front      102.0  ...   \n",
       "73        four      sedan        rwd          front      120.9  ...   \n",
       "74         two    hardtop        rwd          front      112.0  ...   \n",
       "111       four      sedan        rwd          front      107.9  ...   \n",
       "113       four      wagon        rwd          front      114.2  ...   \n",
       "134        two  hatchback        fwd          front       99.1  ...   \n",
       "63        four      sedan        fwd          front       98.8  ...   \n",
       "158       four      sedan        fwd          front       95.7  ...   \n",
       "159       four  hatchback        fwd          front       95.7  ...   \n",
       "174       four      sedan        fwd          front      102.4  ...   \n",
       "182        two      sedan        fwd          front       97.3  ...   \n",
       "184       four      sedan        fwd          front       97.3  ...   \n",
       "187       four      sedan        fwd          front       97.3  ...   \n",
       "192       four      sedan        fwd          front      100.4  ...   \n",
       "203       four      sedan        rwd          front      109.1  ...   \n",
       "49         two      sedan        rwd          front      102.0  ...   \n",
       "129        two  hatchback        rwd          front       98.4  ...   \n",
       "165        two      sedan        rwd          front       94.5  ...   \n",
       "166        two  hatchback        rwd          front       94.5  ...   \n",
       "18         two  hatchback        fwd          front       88.4  ...   \n",
       "30         two  hatchback        fwd          front       86.6  ...   \n",
       "90         two      sedan        fwd          front       94.5  ...   \n",
       "18         two  hatchback        fwd          front       88.4  ...   \n",
       "30         two  hatchback        fwd          front       86.6  ...   \n",
       "16         two      sedan        rwd          front      103.5  ...   \n",
       "73        four      sedan        rwd          front      120.9  ...   \n",
       "74         two    hardtop        rwd          front      112.0  ...   \n",
       "\n",
       "     fuelsystem  boreratio  stroke  compressionratio horsepower peakrpm  \\\n",
       "73         mpfi       3.80    3.35               8.0        184    4500   \n",
       "47         mpfi       3.63    4.17               8.1        176    4750   \n",
       "48         mpfi       3.63    4.17               8.1        176    4750   \n",
       "49         mpfi       3.54    2.76              11.5        262    5000   \n",
       "73         mpfi       3.80    3.35               8.0        184    4500   \n",
       "74         mpfi       3.80    3.35               8.0        184    4500   \n",
       "111        mpfi       3.46    2.19               8.4         95    5000   \n",
       "113        mpfi       3.46    2.19               8.4         95    5000   \n",
       "134        mpfi       2.54    2.07               9.3        110    5250   \n",
       "63          idi       3.39    3.39              22.7         64    4650   \n",
       "158         idi       3.27    3.35              22.5         56    4500   \n",
       "159         idi       3.27    3.35              22.5         56    4500   \n",
       "174         idi       3.27    3.35              22.5         73    4500   \n",
       "182         idi       3.01    3.40              23.0         52    4800   \n",
       "184         idi       3.01    3.40              23.0         52    4800   \n",
       "187         idi       3.01    3.40              23.0         68    4500   \n",
       "192         idi       3.01    3.40              23.0         68    4500   \n",
       "203         idi       3.01    3.40              23.0        106    4800   \n",
       "49         mpfi       3.54    2.76              11.5        262    5000   \n",
       "129        mpfi       3.94    3.11              10.0        288    5750   \n",
       "165        mpfi       3.24    3.08               9.4        112    6600   \n",
       "166        mpfi       3.24    3.08               9.4        112    6600   \n",
       "18         2bbl       2.91    3.03               9.5         48    5100   \n",
       "30         1bbl       2.91    3.41               9.6         58    4800   \n",
       "90          idi       2.99    3.47              21.9         55    4800   \n",
       "18         2bbl       2.91    3.03               9.5         48    5100   \n",
       "30         1bbl       2.91    3.41               9.6         58    4800   \n",
       "16         mpfi       3.62    3.39               8.0        182    5400   \n",
       "73         mpfi       3.80    3.35               8.0        184    4500   \n",
       "74         mpfi       3.80    3.35               8.0        184    4500   \n",
       "\n",
       "     citympg highwaympg    price    outlier_reason  \n",
       "73        14         16  40960.0         wheelbase  \n",
       "47        15         19  32250.0        enginesize  \n",
       "48        15         19  35550.0        enginesize  \n",
       "49        13         17  36000.0        enginesize  \n",
       "73        14         16  40960.0        enginesize  \n",
       "74        14         16  45400.0        enginesize  \n",
       "111       19         24  15580.0            stroke  \n",
       "113       19         24  16695.0            stroke  \n",
       "134       21         28  15040.0            stroke  \n",
       "63        36         42  10795.0  compressionratio  \n",
       "158       34         36   7898.0  compressionratio  \n",
       "159       38         47   7788.0  compressionratio  \n",
       "174       30         33  10698.0  compressionratio  \n",
       "182       37         46   7775.0  compressionratio  \n",
       "184       37         46   7995.0  compressionratio  \n",
       "187       37         42   9495.0  compressionratio  \n",
       "192       33         38  13845.0  compressionratio  \n",
       "203       26         27  22470.0  compressionratio  \n",
       "49        13         17  36000.0        horsepower  \n",
       "129       17         28  31400.5        horsepower  \n",
       "165       26         29   9298.0           peakrpm  \n",
       "166       26         29   9538.0           peakrpm  \n",
       "18        47         53   5151.0           citympg  \n",
       "30        49         54   6479.0           citympg  \n",
       "90        45         50   7099.0           citympg  \n",
       "18        47         53   5151.0        highwaympg  \n",
       "30        49         54   6479.0        highwaympg  \n",
       "16        16         22  41315.0             price  \n",
       "73        14         16  40960.0             price  \n",
       "74        14         16  45400.0             price  \n",
       "\n",
       "[30 rows x 27 columns]"
      ]
     },
     "execution_count": 48,
     "metadata": {},
     "output_type": "execute_result"
    }
   ],
   "source": [
    "# check outliers \n",
    "outliers_df = data.copy()\n",
    "outliers_df = outliers_df.iloc[outliers_idx]\n",
    "outliers_df['outlier_reason'] = outlier_col\n",
    "outliers_df"
   ]
  },
  {
   "cell_type": "code",
   "execution_count": 11,
   "id": "1e887edd",
   "metadata": {
    "scrolled": true
   },
   "outputs": [
    {
     "data": {
      "image/png": "[encoded data removed]",
      "text/plain": [
       "<Figure size 432x288 with 1 Axes>"
      ]
     },
     "metadata": {
      "needs_background": "light"
     },
     "output_type": "display_data"
    }
   ],
   "source": [
    "data[['compressionratio']].boxplot();"
   ]
  },
  {
   "cell_type": "markdown",
   "id": "e7b9ef25",
   "metadata": {},
   "source": [
    "Leave for now"
   ]
  },
  {
   "cell_type": "markdown",
   "id": "31512005",
   "metadata": {},
   "source": [
    "#### Method 2 - Automatic Outlier Detection"
   ]
  },
  {
   "cell_type": "code",
   "execution_count": 49,
   "id": "48eac8e9",
   "metadata": {
    "scrolled": true
   },
   "outputs": [],
   "source": [
    "X_numeric = numeric_df.drop(columns=['price'])\n",
    "y = data['price']\n",
    "X_train_numeric, X_test_numeric, y_train, y_test = train_test_split(X_numeric, y, test_size=0.33, random_state=1)"
   ]
  },
  {
   "cell_type": "code",
   "execution_count": 51,
   "id": "3faddcd6",
   "metadata": {},
   "outputs": [
    {
     "name": "stdout",
     "output_type": "stream",
     "text": [
      "(137, 14) (68, 14) (137,) (68,)\n"
     ]
    }
   ],
   "source": [
    "# summarize the shape of the train and test sets\n",
    "print(X_train_numeric.shape, X_test_numeric.shape, y_train.shape, y_test.shape)"
   ]
  },
  {
   "cell_type": "markdown",
   "id": "38f4b584",
   "metadata": {},
   "source": [
    "In this case, we will fit a linear regression algorithm and evaluate model performance by training the model on the test dataset and making a prediction on the test data and evaluate the predictions using the mean absolute error (MAE)."
   ]
  },
  {
   "cell_type": "code",
   "execution_count": 52,
   "id": "a1dab4fa",
   "metadata": {},
   "outputs": [
    {
     "data": {
      "text/plain": [
       "0.782461679897507"
      ]
     },
     "execution_count": 52,
     "metadata": {},
     "output_type": "execute_result"
    }
   ],
   "source": [
    "# fit the model\n",
    "model = LinearRegression()\n",
    "\n",
    "# evaluate the model\n",
    "cv_results = cross_validate(model, X_train_numeric, y_train, cv=5)\n",
    "\n",
    "#save mean score to variable\n",
    "score = cv_results['test_score'].mean()\n",
    "score"
   ]
  },
  {
   "cell_type": "code",
   "execution_count": 53,
   "id": "2b6d58c2",
   "metadata": {},
   "outputs": [
    {
     "name": "stdout",
     "output_type": "stream",
     "text": [
      "r2: 0.817\n"
     ]
    }
   ],
   "source": [
    "model = LinearRegression()\n",
    "model.fit(X_train_numeric, y_train)\n",
    "# # evaluate the model\n",
    "yhat = model.predict(X_test_numeric)\n",
    "# evaluate predictions\n",
    "r2 = r2_score(y_test, yhat)\n",
    "print('r2: %.3f' % r2)"
   ]
  },
  {
   "cell_type": "markdown",
   "id": "1095120b",
   "metadata": {},
   "source": [
    "Next, we can try removing outliers from the training dataset.\n",
    "\n",
    "The expectation is that the outliers are causing the linear regression model to learn a bias or skewed understanding of the problem, and that removing these outliers from the training set will allow a more effective model to be learned.\n",
    "\n",
    "We can achieve this by defining the LocalOutlierFactor model and using it to make a prediction on the training dataset, marking each row in the training dataset as normal (1) or an outlier (-1). We will use the default hyperparameters for the outlier detection model, although it is a good idea to tune the configuration to the specifics of your dataset."
   ]
  },
  {
   "cell_type": "code",
   "execution_count": 54,
   "id": "7b75f6c4",
   "metadata": {},
   "outputs": [],
   "source": [
    "# identify outliers in the training dataset\n",
    "lof = LocalOutlierFactor()\n",
    "yhat = lof.fit_predict(X_train)\n",
    "\n",
    "# select all rows that are not outliers\n",
    "mask = yhat != -1\n",
    "X_train_numeric, y_train = X_train_numeric[mask], y_train[mask]"
   ]
  },
  {
   "cell_type": "code",
   "execution_count": 55,
   "id": "e87ae80f",
   "metadata": {},
   "outputs": [
    {
     "name": "stdout",
     "output_type": "stream",
     "text": [
      "(122, 14) (122,)\n"
     ]
    },
    {
     "data": {
      "text/plain": [
       "0.7432984861727702"
      ]
     },
     "execution_count": 55,
     "metadata": {},
     "output_type": "execute_result"
    }
   ],
   "source": [
    "# summarize the shape of the updated training dataset\n",
    "print(X_train_numeric.shape, y_train.shape)\n",
    "\n",
    "# fit the model\n",
    "model = LinearRegression()\n",
    "\n",
    "# evaluate the model\n",
    "cv_results = cross_validate(model, X_train_numeric, y_train, cv=5)\n",
    "\n",
    "#save mean score to variable\n",
    "score_outliers_removed = cv_results['test_score'].mean()\n",
    "score_outliers_removed"
   ]
  },
  {
   "cell_type": "markdown",
   "id": "22f9c400",
   "metadata": {},
   "source": [
    "It seems that removing outliers using this automatic detection technique has reduced the score of the model. This is most likely because of the limited amount of data."
   ]
  },
  {
   "cell_type": "markdown",
   "id": "8afa42d0",
   "metadata": {},
   "source": [
    "## Columns"
   ]
  },
  {
   "cell_type": "markdown",
   "id": "edc53699",
   "metadata": {},
   "source": [
    "Feature selection\n",
    "\n",
    "Polynomial features\n",
    "\n",
    "One hot encoding"
   ]
  },
  {
   "cell_type": "markdown",
   "id": "1b7f6d94",
   "metadata": {},
   "source": [
    "### Feature selection"
   ]
  },
  {
   "cell_type": "markdown",
   "id": "2a9c0816",
   "metadata": {},
   "source": [
    "***Feature selection*** methods are intended to reduce the number of input variables to those that are believed to be most useful to a model in order to predict the target variable.\n",
    "\n",
    "One way to think about feature selection methods are in terms of ***supervised*** and ***unsupervised*** methods.\n",
    "\n",
    "The difference has to do with whether features are selected based on the target variable or not. Unsupervised feature selection techniques ignores the target variable, such as methods that remove redundant variables using correlation. Supervised feature selection techniques use the target variable, such as methods that remove irrelevant variables..\n",
    "\n",
    "Another way to consider the mechanism used to select features which may be divided into ***wrapper*** and ***filter*** methods. These methods are almost always supervised and are evaluated based on the performance of a resulting model on a hold out dataset.\n",
    "\n",
    "Wrapper feature selection methods create many models with different subsets of input features and select those features that result in the best performing model according to a performance metric. \n",
    "\n",
    "Filter feature selection methods use statistical techniques to evaluate the relationship between each input variable and the target variable, and these scores are used as the basis to choose (filter) those input variables that will be used in the model.\n",
    "\n",
    "Finally, there are some machine learning algorithms that perform feature selection automatically as part of learning the model. We might refer to these techniques as ***intrinsic*** feature selection methods.\n",
    "\n",
    "This includes algorithms such as penalized regression models like Lasso and decision trees, including ensembles of decision trees like random forest."
   ]
  },
  {
   "attachments": {
    "image.png": {
     "image/png": "[encoded data removed]"
    }
   },
   "cell_type": "markdown",
   "id": "0c1cab39",
   "metadata": {},
   "source": [
    "![image.png](attachment:image.png)"
   ]
  },
  {
   "cell_type": "markdown",
   "id": "442e1b85",
   "metadata": {},
   "source": [
    "#### Filter based feature selection"
   ]
  },
  {
   "cell_type": "markdown",
   "id": "21068e41",
   "metadata": {},
   "source": [
    "Most of these techniques are univariate, meaning that they evaluate each predictor in isolation. In this case, the existence of correlated predictors makes it possible to select important, but redundant, predictors. The obvious consequences of this issue are that too many predictors are chosen and, as a result, collinearity problems arise."
   ]
  },
  {
   "attachments": {
    "image.png": {
     "image/png": "[encoded data removed]"
    }
   },
   "cell_type": "markdown",
   "id": "428ba75c",
   "metadata": {},
   "source": [
    "![image.png](attachment:image.png)"
   ]
  },
  {
   "cell_type": "markdown",
   "id": "de1225aa",
   "metadata": {},
   "source": [
    "We'll look at numeric variables now and come back to categorical variables after one-hot-encoding."
   ]
  },
  {
   "cell_type": "markdown",
   "id": "d43eae50",
   "metadata": {},
   "source": [
    "##### SelectKBest"
   ]
  },
  {
   "cell_type": "code",
   "execution_count": 97,
   "id": "457316bd",
   "metadata": {},
   "outputs": [],
   "source": [
    "# define feature selection\n",
    "selector = SelectKBest(score_func=f_classif, k=4)\n",
    "\n",
    "# apply feature selection\n",
    "selector.fit_transform(X_numeric, y)\n",
    "\n",
    "cols = selector.get_support(indices=True)\n",
    "X_numeric_new = X_numeric.iloc[:,cols]"
   ]
  },
  {
   "cell_type": "code",
   "execution_count": 98,
   "id": "df366eb8",
   "metadata": {},
   "outputs": [],
   "source": [
    "X_train_numeric_new, X_test_numeric_new, y_train, y_test = train_test_split(X_numeric_new, y, test_size=0.33, random_state=1)"
   ]
  },
  {
   "cell_type": "code",
   "execution_count": 99,
   "id": "0abd06d5",
   "metadata": {},
   "outputs": [
    {
     "data": {
      "text/plain": [
       "0.7936146902124095"
      ]
     },
     "execution_count": 99,
     "metadata": {},
     "output_type": "execute_result"
    }
   ],
   "source": [
    "model = LinearRegression()\n",
    "\n",
    "# evaluate the model\n",
    "cv_results = cross_validate(model, X_train_numeric_new, y_train, cv=5)\n",
    "\n",
    "#save mean score to variable\n",
    "score = cv_results['test_score'].mean()\n",
    "score"
   ]
  },
  {
   "cell_type": "markdown",
   "id": "eeabd839",
   "metadata": {},
   "source": [
    "Choosing best 4 numeric variables gives the best results."
   ]
  },
  {
   "cell_type": "markdown",
   "id": "987f408c",
   "metadata": {},
   "source": [
    "##### Pearson's"
   ]
  },
  {
   "cell_type": "code",
   "execution_count": null,
   "id": "f8bc4d90",
   "metadata": {},
   "outputs": [],
   "source": []
  },
  {
   "cell_type": "markdown",
   "id": "a42f5a4b",
   "metadata": {},
   "source": [
    "##### Spearman's"
   ]
  },
  {
   "cell_type": "code",
   "execution_count": null,
   "id": "06476b40",
   "metadata": {},
   "outputs": [],
   "source": []
  },
  {
   "cell_type": "markdown",
   "id": "bbe75b01",
   "metadata": {},
   "source": [
    "## Values"
   ]
  },
  {
   "cell_type": "code",
   "execution_count": null,
   "id": "2fb77a31",
   "metadata": {},
   "outputs": [],
   "source": [
    "sns.kdeplot(x=data['enginesize']);"
   ]
  },
  {
   "cell_type": "code",
   "execution_count": null,
   "id": "510ffdd4",
   "metadata": {},
   "outputs": [],
   "source": [
    "data[['enginesize']].boxplot();"
   ]
  },
  {
   "cell_type": "markdown",
   "id": "927c1ec8",
   "metadata": {},
   "source": [
    "Use robust scaling as there are some outliers"
   ]
  },
  {
   "cell_type": "code",
   "execution_count": null,
   "id": "9eacb30c",
   "metadata": {},
   "outputs": [],
   "source": [
    "from sklearn.preprocessing import RobustScaler\n",
    "\n",
    "r_scaler = RobustScaler() # Instanciate Robust Scaler\n",
    "\n",
    "r_scaler.fit(data[['enginesize']]) # Fit scaler to feature\n",
    "\n",
    "data['enginesize'] = r_scaler.transform(data[['enginesize']]) #Scale\n",
    "\n",
    "data.head()"
   ]
  },
  {
   "cell_type": "code",
   "execution_count": null,
   "id": "556d63e5",
   "metadata": {},
   "outputs": [],
   "source": [
    "sns.kdeplot(x=data['enginesize']);"
   ]
  },
  {
   "cell_type": "code",
   "execution_count": null,
   "id": "ca45f52b",
   "metadata": {},
   "outputs": [],
   "source": []
  }
 ],
 "metadata": {
  "kernelspec": {
   "display_name": "Python 3 (ipykernel)",
   "language": "python",
   "name": "python3"
  },
  "language_info": {
   "codemirror_mode": {
    "name": "ipython",
    "version": 3
   },
   "file_extension": ".py",
   "mimetype": "text/x-python",
   "name": "python",
   "nbconvert_exporter": "python",
   "pygments_lexer": "ipython3",
   "version": "3.8.12"
  },
  "toc": {
   "base_numbering": 1,
   "nav_menu": {},
   "number_sections": true,
   "sideBar": true,
   "skip_h1_title": false,
   "title_cell": "Table of Contents",
   "title_sidebar": "Contents",
   "toc_cell": false,
   "toc_position": {
    "height": "calc(100% - 180px)",
    "left": "10px",
    "top": "150px",
    "width": "384px"
   },
   "toc_section_display": true,
   "toc_window_display": true
  }
 },
 "nbformat": 4,
 "nbformat_minor": 5
}
