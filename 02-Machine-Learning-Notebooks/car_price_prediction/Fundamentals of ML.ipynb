{
 "cells": [
  {
   "cell_type": "code",
   "execution_count": 1,
   "id": "343a6705",
   "metadata": {},
   "outputs": [],
   "source": [
    "# Use this cell to regroup all your imports\n",
    "\n",
    "import pandas as pd\n",
    "import numpy as np\n",
    "import matplotlib.pyplot as plt\n",
    "import seaborn as sns\n",
    "from sklearn import set_config; set_config(display='diagram')"
   ]
  },
  {
   "cell_type": "markdown",
   "id": "e4384429",
   "metadata": {},
   "source": [
    "# 🏆 Basic Linear Regression"
   ]
  },
  {
   "cell_type": "markdown",
   "id": "8ad57c79",
   "metadata": {},
   "source": [
    "A Chinese automobile company, Geely Auto, aspires to enter the US market by setting up their manufacturing unit there and producing cars locally to give competition to their US and European counterparts.\n",
    "\n",
    "The company wants to know:\n",
    "\n",
    "- Which variables are significant in predicting the price of a car\n",
    "- How well those variables describe the price of a car\n",
    "- Based on various market surveys, the consulting firm has gathered a large data set of different types of cars across the America market."
   ]
  },
  {
   "cell_type": "markdown",
   "id": "ac64f02a",
   "metadata": {},
   "source": [
    "## Load"
   ]
  },
  {
   "cell_type": "code",
   "execution_count": 2,
   "id": "077c2808",
   "metadata": {},
   "outputs": [],
   "source": [
    "data = pd.read_csv(\"data/CarPrice_Assignment.csv\")\n",
    "X = data.drop(columns=['car_ID', 'price'])\n",
    "y = data['price']"
   ]
  },
  {
   "cell_type": "code",
   "execution_count": 3,
   "id": "93eaba32",
   "metadata": {},
   "outputs": [
    {
     "name": "stdout",
     "output_type": "stream",
     "text": [
      "X shape: (205, 24)\n",
      "y shape: (205,)\n"
     ]
    }
   ],
   "source": [
    "print(\"X shape:\", X.shape)\n",
    "print(\"y shape:\", y.shape)"
   ]
  },
  {
   "cell_type": "markdown",
   "id": "65eede6a",
   "metadata": {},
   "source": [
    "# Visualise"
   ]
  },
  {
   "cell_type": "code",
   "execution_count": 4,
   "id": "637f67b2",
   "metadata": {},
   "outputs": [
    {
     "data": {
      "image/png": "[encoded data removed]",
      "text/plain": [
       "<Figure size 432x288 with 1 Axes>"
      ]
     },
     "metadata": {
      "needs_background": "light"
     },
     "output_type": "display_data"
    }
   ],
   "source": [
    "# scatter plot of engine size against price\n",
    "plt.scatter(X.enginesize, y)\n",
    "\n",
    "# add labels\n",
    "plt.xlabel('Engine Size')\n",
    "plt.ylabel('Price');"
   ]
  },
  {
   "cell_type": "markdown",
   "id": "cd7e8bf3",
   "metadata": {},
   "source": [
    "# Single-variable"
   ]
  },
  {
   "cell_type": "code",
   "execution_count": 7,
   "id": "4dc675b1",
   "metadata": {},
   "outputs": [],
   "source": [
    "X = X[['enginesize']]"
   ]
  },
  {
   "cell_type": "code",
   "execution_count": 8,
   "id": "9dbcb4e4",
   "metadata": {},
   "outputs": [
    {
     "data": {
      "text/plain": [
       "{'fit_time': array([0.01254678, 0.01513433, 0.01166224, 0.01041055, 0.01048303]),\n",
       " 'score_time': array([0.01344037, 0.01269197, 0.00741291, 0.00857902, 0.0068686 ]),\n",
       " 'test_score': array([0.74864137, 0.84011735, 0.18798229, 0.74161948, 0.26725142])}"
      ]
     },
     "execution_count": 8,
     "metadata": {},
     "output_type": "execute_result"
    }
   ],
   "source": [
    "from sklearn.linear_model import LinearRegression\n",
    "from sklearn.model_selection import cross_validate\n",
    "\n",
    "model = LinearRegression()\n",
    "\n",
    "cv_results = cross_validate(model, X, y, cv=5)\n",
    "\n",
    "cv_results"
   ]
  },
  {
   "cell_type": "code",
   "execution_count": 9,
   "id": "c8913be6",
   "metadata": {},
   "outputs": [
    {
     "data": {
      "text/plain": [
       "0.557122381192232"
      ]
     },
     "execution_count": 9,
     "metadata": {},
     "output_type": "execute_result"
    }
   ],
   "source": [
    "cv_results['test_score'].mean()"
   ]
  },
  {
   "cell_type": "markdown",
   "id": "51583969",
   "metadata": {},
   "source": [
    "👇 Plot the evolution of total computational time and mean score as Kfolds increases from 2 until 40."
   ]
  },
  {
   "cell_type": "code",
   "execution_count": 10,
   "id": "ceeda31a",
   "metadata": {},
   "outputs": [],
   "source": [
    "cv_results = cross_validate(model, X, y, cv=30)"
   ]
  },
  {
   "cell_type": "code",
   "execution_count": 11,
   "id": "6f5b5a6f",
   "metadata": {},
   "outputs": [],
   "source": [
    "time = []\n",
    "mean_score = []\n",
    "model = LinearRegression()\n",
    "for k in range(2, 41):\n",
    "    cv_results = cross_validate(model, X, y, scoring='r2', cv=k)\n",
    "    fit_time = cv_results['fit_time'].sum()\n",
    "    score = cv_results['test_score'].mean()\n",
    "    time.append(fit_time)\n",
    "    mean_score.append(score)"
   ]
  },
  {
   "cell_type": "code",
   "execution_count": 12,
   "id": "f9022234",
   "metadata": {},
   "outputs": [
    {
     "data": {
      "image/png": "[encoded data removed]",
      "text/plain": [
       "<Figure size 432x288 with 1 Axes>"
      ]
     },
     "metadata": {
      "needs_background": "light"
     },
     "output_type": "display_data"
    }
   ],
   "source": [
    "plt.scatter(time, mean_score)\n",
    "\n",
    "plt.xlabel('Computational Time')\n",
    "plt.ylabel('Mean Score');"
   ]
  },
  {
   "cell_type": "markdown",
   "id": "d9dc17ef",
   "metadata": {},
   "source": [
    "# Train the model "
   ]
  },
  {
   "cell_type": "markdown",
   "id": "c5712f62",
   "metadata": {},
   "source": [
    "Would not do this in practice without a train/test split. This is just for demonstration purposes"
   ]
  },
  {
   "cell_type": "code",
   "execution_count": 13,
   "id": "a76d0faf",
   "metadata": {},
   "outputs": [
    {
     "data": {
      "text/html": [
       "<style>#sk-4be2ea02-e2eb-4e8a-bc4e-61f6d4458795 {color: black;background-color: white;}#sk-4be2ea02-e2eb-4e8a-bc4e-61f6d4458795 pre{padding: 0;}#sk-4be2ea02-e2eb-4e8a-bc4e-61f6d4458795 div.sk-toggleable {background-color: white;}#sk-4be2ea02-e2eb-4e8a-bc4e-61f6d4458795 label.sk-toggleable__label {cursor: pointer;display: block;width: 100%;margin-bottom: 0;padding: 0.3em;box-sizing: border-box;text-align: center;}#sk-4be2ea02-e2eb-4e8a-bc4e-61f6d4458795 label.sk-toggleable__label-arrow:before {content: \"▸\";float: left;margin-right: 0.25em;color: #696969;}#sk-4be2ea02-e2eb-4e8a-bc4e-61f6d4458795 label.sk-toggleable__label-arrow:hover:before {color: black;}#sk-4be2ea02-e2eb-4e8a-bc4e-61f6d4458795 div.sk-estimator:hover label.sk-toggleable__label-arrow:before {color: black;}#sk-4be2ea02-e2eb-4e8a-bc4e-61f6d4458795 div.sk-toggleable__content {max-height: 0;max-width: 0;overflow: hidden;text-align: left;background-color: #f0f8ff;}#sk-4be2ea02-e2eb-4e8a-bc4e-61f6d4458795 div.sk-toggleable__content pre {margin: 0.2em;color: black;border-radius: 0.25em;background-color: #f0f8ff;}#sk-4be2ea02-e2eb-4e8a-bc4e-61f6d4458795 input.sk-toggleable__control:checked~div.sk-toggleable__content {max-height: 200px;max-width: 100%;overflow: auto;}#sk-4be2ea02-e2eb-4e8a-bc4e-61f6d4458795 input.sk-toggleable__control:checked~label.sk-toggleable__label-arrow:before {content: \"▾\";}#sk-4be2ea02-e2eb-4e8a-bc4e-61f6d4458795 div.sk-estimator input.sk-toggleable__control:checked~label.sk-toggleable__label {background-color: #d4ebff;}#sk-4be2ea02-e2eb-4e8a-bc4e-61f6d4458795 div.sk-label input.sk-toggleable__control:checked~label.sk-toggleable__label {background-color: #d4ebff;}#sk-4be2ea02-e2eb-4e8a-bc4e-61f6d4458795 input.sk-hidden--visually {border: 0;clip: rect(1px 1px 1px 1px);clip: rect(1px, 1px, 1px, 1px);height: 1px;margin: -1px;overflow: hidden;padding: 0;position: absolute;width: 1px;}#sk-4be2ea02-e2eb-4e8a-bc4e-61f6d4458795 div.sk-estimator {font-family: monospace;background-color: #f0f8ff;border: 1px dotted black;border-radius: 0.25em;box-sizing: border-box;margin-bottom: 0.5em;}#sk-4be2ea02-e2eb-4e8a-bc4e-61f6d4458795 div.sk-estimator:hover {background-color: #d4ebff;}#sk-4be2ea02-e2eb-4e8a-bc4e-61f6d4458795 div.sk-parallel-item::after {content: \"\";width: 100%;border-bottom: 1px solid gray;flex-grow: 1;}#sk-4be2ea02-e2eb-4e8a-bc4e-61f6d4458795 div.sk-label:hover label.sk-toggleable__label {background-color: #d4ebff;}#sk-4be2ea02-e2eb-4e8a-bc4e-61f6d4458795 div.sk-serial::before {content: \"\";position: absolute;border-left: 1px solid gray;box-sizing: border-box;top: 2em;bottom: 0;left: 50%;}#sk-4be2ea02-e2eb-4e8a-bc4e-61f6d4458795 div.sk-serial {display: flex;flex-direction: column;align-items: center;background-color: white;padding-right: 0.2em;padding-left: 0.2em;}#sk-4be2ea02-e2eb-4e8a-bc4e-61f6d4458795 div.sk-item {z-index: 1;}#sk-4be2ea02-e2eb-4e8a-bc4e-61f6d4458795 div.sk-parallel {display: flex;align-items: stretch;justify-content: center;background-color: white;}#sk-4be2ea02-e2eb-4e8a-bc4e-61f6d4458795 div.sk-parallel::before {content: \"\";position: absolute;border-left: 1px solid gray;box-sizing: border-box;top: 2em;bottom: 0;left: 50%;}#sk-4be2ea02-e2eb-4e8a-bc4e-61f6d4458795 div.sk-parallel-item {display: flex;flex-direction: column;position: relative;background-color: white;}#sk-4be2ea02-e2eb-4e8a-bc4e-61f6d4458795 div.sk-parallel-item:first-child::after {align-self: flex-end;width: 50%;}#sk-4be2ea02-e2eb-4e8a-bc4e-61f6d4458795 div.sk-parallel-item:last-child::after {align-self: flex-start;width: 50%;}#sk-4be2ea02-e2eb-4e8a-bc4e-61f6d4458795 div.sk-parallel-item:only-child::after {width: 0;}#sk-4be2ea02-e2eb-4e8a-bc4e-61f6d4458795 div.sk-dashed-wrapped {border: 1px dashed gray;margin: 0 0.4em 0.5em 0.4em;box-sizing: border-box;padding-bottom: 0.4em;background-color: white;position: relative;}#sk-4be2ea02-e2eb-4e8a-bc4e-61f6d4458795 div.sk-label label {font-family: monospace;font-weight: bold;background-color: white;display: inline-block;line-height: 1.2em;}#sk-4be2ea02-e2eb-4e8a-bc4e-61f6d4458795 div.sk-label-container {position: relative;z-index: 2;text-align: center;}#sk-4be2ea02-e2eb-4e8a-bc4e-61f6d4458795 div.sk-container {/* jupyter's `normalize.less` sets `[hidden] { display: none; }` but bootstrap.min.css set `[hidden] { display: none !important; }` so we also need the `!important` here to be able to override the default hidden behavior on the sphinx rendered scikit-learn.org. See: https://github.com/scikit-learn/scikit-learn/issues/21755 */display: inline-block !important;position: relative;}#sk-4be2ea02-e2eb-4e8a-bc4e-61f6d4458795 div.sk-text-repr-fallback {display: none;}</style><div id=\"sk-4be2ea02-e2eb-4e8a-bc4e-61f6d4458795\" class=\"sk-top-container\"><div class=\"sk-text-repr-fallback\"><pre>LinearRegression()</pre><b>Please rerun this cell to show the HTML repr or trust the notebook.</b></div><div class=\"sk-container\" hidden><div class=\"sk-item\"><div class=\"sk-estimator sk-toggleable\"><input class=\"sk-toggleable__control sk-hidden--visually\" id=\"87538ece-d0bd-4d5b-9cd2-03cf6430d8a7\" type=\"checkbox\" checked><label for=\"87538ece-d0bd-4d5b-9cd2-03cf6430d8a7\" class=\"sk-toggleable__label sk-toggleable__label-arrow\">LinearRegression</label><div class=\"sk-toggleable__content\"><pre>LinearRegression()</pre></div></div></div></div></div>"
      ],
      "text/plain": [
       "LinearRegression()"
      ]
     },
     "execution_count": 13,
     "metadata": {},
     "output_type": "execute_result"
    }
   ],
   "source": [
    "# Instanciate the model\n",
    "model = LinearRegression()\n",
    "\n",
    "# Fit the model\n",
    "model.fit(X, y)"
   ]
  },
  {
   "cell_type": "code",
   "execution_count": 14,
   "id": "35af6e5c",
   "metadata": {},
   "outputs": [],
   "source": [
    "slope = model.coef_"
   ]
  },
  {
   "cell_type": "code",
   "execution_count": 15,
   "id": "e373a820",
   "metadata": {},
   "outputs": [],
   "source": [
    "intercept = model.intercept_"
   ]
  },
  {
   "cell_type": "code",
   "execution_count": 16,
   "id": "72c3b01c",
   "metadata": {},
   "outputs": [],
   "source": [
    "best_fit_line = intercept + slope*X"
   ]
  },
  {
   "cell_type": "code",
   "execution_count": 17,
   "id": "60165c2d",
   "metadata": {},
   "outputs": [
    {
     "data": {
      "image/png": "[encoded data removed]",
      "text/plain": [
       "<Figure size 1080x432 with 1 Axes>"
      ]
     },
     "metadata": {
      "needs_background": "light"
     },
     "output_type": "display_data"
    }
   ],
   "source": [
    "plt.figure(figsize=(15, 6))\n",
    "\n",
    "#Plot scatter \n",
    "plt.scatter(X, y)\n",
    "\n",
    "#Plot line of best fit\n",
    "y_values = intercept + slope*X\n",
    "plt.plot(X, y_values)\n",
    "\n",
    "plt.xlabel('Engine Size')\n",
    "plt.ylabel('Car Price');"
   ]
  },
  {
   "cell_type": "markdown",
   "id": "71c1e704",
   "metadata": {},
   "source": [
    "# Learning curves"
   ]
  },
  {
   "cell_type": "code",
   "execution_count": 18,
   "id": "798b14e8",
   "metadata": {},
   "outputs": [],
   "source": [
    "from sklearn.model_selection import learning_curve\n",
    "\n",
    "train_sizes = [25, 50, 75, 100, 125, 150]\n",
    "\n",
    "train_sizes, train_scores, test_scores = learning_curve(estimator=LinearRegression(), X=X, y=y, train_sizes=train_sizes, cv=5)"
   ]
  },
  {
   "cell_type": "code",
   "execution_count": 19,
   "id": "6c5368b7",
   "metadata": {},
   "outputs": [],
   "source": [
    "train_scores_mean = np.mean(train_scores, axis=1)\n",
    "test_scores_mean = np.mean(test_scores, axis=1)"
   ]
  },
  {
   "cell_type": "code",
   "execution_count": 20,
   "id": "4f381d45",
   "metadata": {},
   "outputs": [
    {
     "data": {
      "image/png": "[encoded data removed]",
      "text/plain": [
       "<Figure size 432x288 with 1 Axes>"
      ]
     },
     "metadata": {
      "needs_background": "light"
     },
     "output_type": "display_data"
    }
   ],
   "source": [
    "plt.plot(train_sizes, train_scores_mean, label = 'Training score')\n",
    "plt.plot(train_sizes, test_scores_mean, label = 'Test score')\n",
    "\n",
    "plt.xlabel('Train Sizes')\n",
    "plt.ylabel('R2 Score')\n",
    "\n",
    "plt.title('Learning curves', fontsize = 18, y = 1.03)\n",
    "\n",
    "plt.legend();"
   ]
  },
  {
   "cell_type": "markdown",
   "id": "437876f3",
   "metadata": {},
   "source": [
    "## Adding new features"
   ]
  },
  {
   "cell_type": "code",
   "execution_count": 21,
   "id": "c2f05a33",
   "metadata": {},
   "outputs": [
    {
     "data": {
      "text/plain": [
       "0.5493246646003536"
      ]
     },
     "execution_count": 21,
     "metadata": {},
     "output_type": "execute_result"
    }
   ],
   "source": [
    "# define new features\n",
    "X = data[['enginesize', 'horsepower', 'curbweight', 'highwaympg']]\n",
    "\n",
    "#instanciate new model\n",
    "model_2 = LinearRegression()\n",
    "\n",
    "#store results from cross validation with 5 folds\n",
    "cv_results = cross_validate(model, X, y, cv=5)\n",
    "\n",
    "#save mean score to variable\n",
    "score_added_features = cv_results['test_score'].mean()\n",
    "score_added_features"
   ]
  },
  {
   "cell_type": "code",
   "execution_count": 22,
   "id": "cbd4478c",
   "metadata": {
    "scrolled": false
   },
   "outputs": [
    {
     "data": {
      "image/png": "[encoded data removed]",
      "text/plain": [
       "<Figure size 432x288 with 1 Axes>"
      ]
     },
     "metadata": {
      "needs_background": "light"
     },
     "output_type": "display_data"
    }
   ],
   "source": [
    "# Return train scores and test scores\n",
    "train_sizes, train_scores, test_scores = learning_curve(estimator=model, X=X, y=y, train_sizes=train_sizes, cv=5)\n",
    "\n",
    "# calcualte mean for each fold\n",
    "train_scores_mean = np.mean(train_scores, axis=1)\n",
    "test_scores_mean = np.mean(test_scores, axis=1)\n",
    "\n",
    "# plot each train size against the corresponding train/test score\n",
    "plt.plot(train_sizes, train_scores_mean, label=\"Training Score\")\n",
    "plt.plot(train_sizes, test_scores_mean, label=\"Test Score\")\n",
    "\n",
    "plt.xlabel(\"Train Size\")\n",
    "plt.ylabel(\"R2 Score\")\n",
    "\n",
    "plt.title('Learning curves 2', fontsize = 18, y = 1.03)\n",
    "\n",
    "\n",
    "plt.legend();"
   ]
  },
  {
   "cell_type": "markdown",
   "id": "89ab6478",
   "metadata": {},
   "source": [
    "# Baseline"
   ]
  },
  {
   "cell_type": "code",
   "execution_count": 24,
   "id": "37b2478a",
   "metadata": {},
   "outputs": [],
   "source": [
    "X = data.drop(columns=['car_ID', 'price'])\n",
    "y = data['price']"
   ]
  },
  {
   "cell_type": "code",
   "execution_count": 25,
   "id": "66378c16",
   "metadata": {},
   "outputs": [
    {
     "data": {
      "text/html": [
       "<div>\n",
       "<style scoped>\n",
       "    .dataframe tbody tr th:only-of-type {\n",
       "        vertical-align: middle;\n",
       "    }\n",
       "\n",
       "    .dataframe tbody tr th {\n",
       "        vertical-align: top;\n",
       "    }\n",
       "\n",
       "    .dataframe thead th {\n",
       "        text-align: right;\n",
       "    }\n",
       "</style>\n",
       "<table border=\"1\" class=\"dataframe\">\n",
       "  <thead>\n",
       "    <tr style=\"text-align: right;\">\n",
       "      <th></th>\n",
       "      <th>symboling</th>\n",
       "      <th>CarName</th>\n",
       "      <th>fueltype</th>\n",
       "      <th>aspiration</th>\n",
       "      <th>doornumber</th>\n",
       "      <th>carbody</th>\n",
       "      <th>drivewheel</th>\n",
       "      <th>enginelocation</th>\n",
       "      <th>wheelbase</th>\n",
       "      <th>carlength</th>\n",
       "      <th>...</th>\n",
       "      <th>cylindernumber</th>\n",
       "      <th>enginesize</th>\n",
       "      <th>fuelsystem</th>\n",
       "      <th>boreratio</th>\n",
       "      <th>stroke</th>\n",
       "      <th>compressionratio</th>\n",
       "      <th>horsepower</th>\n",
       "      <th>peakrpm</th>\n",
       "      <th>citympg</th>\n",
       "      <th>highwaympg</th>\n",
       "    </tr>\n",
       "  </thead>\n",
       "  <tbody>\n",
       "    <tr>\n",
       "      <th>0</th>\n",
       "      <td>3</td>\n",
       "      <td>alfa-romero giulia</td>\n",
       "      <td>gas</td>\n",
       "      <td>std</td>\n",
       "      <td>two</td>\n",
       "      <td>convertible</td>\n",
       "      <td>rwd</td>\n",
       "      <td>front</td>\n",
       "      <td>88.6</td>\n",
       "      <td>168.8</td>\n",
       "      <td>...</td>\n",
       "      <td>four</td>\n",
       "      <td>130</td>\n",
       "      <td>mpfi</td>\n",
       "      <td>3.47</td>\n",
       "      <td>2.68</td>\n",
       "      <td>9.0</td>\n",
       "      <td>111</td>\n",
       "      <td>5000</td>\n",
       "      <td>21</td>\n",
       "      <td>27</td>\n",
       "    </tr>\n",
       "    <tr>\n",
       "      <th>1</th>\n",
       "      <td>3</td>\n",
       "      <td>alfa-romero stelvio</td>\n",
       "      <td>gas</td>\n",
       "      <td>std</td>\n",
       "      <td>two</td>\n",
       "      <td>convertible</td>\n",
       "      <td>rwd</td>\n",
       "      <td>front</td>\n",
       "      <td>88.6</td>\n",
       "      <td>168.8</td>\n",
       "      <td>...</td>\n",
       "      <td>four</td>\n",
       "      <td>130</td>\n",
       "      <td>mpfi</td>\n",
       "      <td>3.47</td>\n",
       "      <td>2.68</td>\n",
       "      <td>9.0</td>\n",
       "      <td>111</td>\n",
       "      <td>5000</td>\n",
       "      <td>21</td>\n",
       "      <td>27</td>\n",
       "    </tr>\n",
       "    <tr>\n",
       "      <th>2</th>\n",
       "      <td>1</td>\n",
       "      <td>alfa-romero Quadrifoglio</td>\n",
       "      <td>gas</td>\n",
       "      <td>std</td>\n",
       "      <td>two</td>\n",
       "      <td>hatchback</td>\n",
       "      <td>rwd</td>\n",
       "      <td>front</td>\n",
       "      <td>94.5</td>\n",
       "      <td>171.2</td>\n",
       "      <td>...</td>\n",
       "      <td>six</td>\n",
       "      <td>152</td>\n",
       "      <td>mpfi</td>\n",
       "      <td>2.68</td>\n",
       "      <td>3.47</td>\n",
       "      <td>9.0</td>\n",
       "      <td>154</td>\n",
       "      <td>5000</td>\n",
       "      <td>19</td>\n",
       "      <td>26</td>\n",
       "    </tr>\n",
       "    <tr>\n",
       "      <th>3</th>\n",
       "      <td>2</td>\n",
       "      <td>audi 100 ls</td>\n",
       "      <td>gas</td>\n",
       "      <td>std</td>\n",
       "      <td>four</td>\n",
       "      <td>sedan</td>\n",
       "      <td>fwd</td>\n",
       "      <td>front</td>\n",
       "      <td>99.8</td>\n",
       "      <td>176.6</td>\n",
       "      <td>...</td>\n",
       "      <td>four</td>\n",
       "      <td>109</td>\n",
       "      <td>mpfi</td>\n",
       "      <td>3.19</td>\n",
       "      <td>3.40</td>\n",
       "      <td>10.0</td>\n",
       "      <td>102</td>\n",
       "      <td>5500</td>\n",
       "      <td>24</td>\n",
       "      <td>30</td>\n",
       "    </tr>\n",
       "    <tr>\n",
       "      <th>4</th>\n",
       "      <td>2</td>\n",
       "      <td>audi 100ls</td>\n",
       "      <td>gas</td>\n",
       "      <td>std</td>\n",
       "      <td>four</td>\n",
       "      <td>sedan</td>\n",
       "      <td>4wd</td>\n",
       "      <td>front</td>\n",
       "      <td>99.4</td>\n",
       "      <td>176.6</td>\n",
       "      <td>...</td>\n",
       "      <td>five</td>\n",
       "      <td>136</td>\n",
       "      <td>mpfi</td>\n",
       "      <td>3.19</td>\n",
       "      <td>3.40</td>\n",
       "      <td>8.0</td>\n",
       "      <td>115</td>\n",
       "      <td>5500</td>\n",
       "      <td>18</td>\n",
       "      <td>22</td>\n",
       "    </tr>\n",
       "  </tbody>\n",
       "</table>\n",
       "<p>5 rows × 24 columns</p>\n",
       "</div>"
      ],
      "text/plain": [
       "   symboling                   CarName fueltype aspiration doornumber  \\\n",
       "0          3        alfa-romero giulia      gas        std        two   \n",
       "1          3       alfa-romero stelvio      gas        std        two   \n",
       "2          1  alfa-romero Quadrifoglio      gas        std        two   \n",
       "3          2               audi 100 ls      gas        std       four   \n",
       "4          2                audi 100ls      gas        std       four   \n",
       "\n",
       "       carbody drivewheel enginelocation  wheelbase  carlength  ...  \\\n",
       "0  convertible        rwd          front       88.6      168.8  ...   \n",
       "1  convertible        rwd          front       88.6      168.8  ...   \n",
       "2    hatchback        rwd          front       94.5      171.2  ...   \n",
       "3        sedan        fwd          front       99.8      176.6  ...   \n",
       "4        sedan        4wd          front       99.4      176.6  ...   \n",
       "\n",
       "   cylindernumber  enginesize  fuelsystem boreratio stroke  compressionratio  \\\n",
       "0            four         130        mpfi      3.47   2.68               9.0   \n",
       "1            four         130        mpfi      3.47   2.68               9.0   \n",
       "2             six         152        mpfi      2.68   3.47               9.0   \n",
       "3            four         109        mpfi      3.19   3.40              10.0   \n",
       "4            five         136        mpfi      3.19   3.40               8.0   \n",
       "\n",
       "  horsepower  peakrpm  citympg  highwaympg  \n",
       "0        111     5000       21          27  \n",
       "1        111     5000       21          27  \n",
       "2        154     5000       19          26  \n",
       "3        102     5500       24          30  \n",
       "4        115     5500       18          22  \n",
       "\n",
       "[5 rows x 24 columns]"
      ]
     },
     "execution_count": 25,
     "metadata": {},
     "output_type": "execute_result"
    }
   ],
   "source": [
    "X.head()"
   ]
  },
  {
   "cell_type": "code",
   "execution_count": 26,
   "id": "cbe67b70",
   "metadata": {},
   "outputs": [],
   "source": [
    "X_numeric = X.select_dtypes(include=np.number)"
   ]
  },
  {
   "cell_type": "code",
   "execution_count": 29,
   "id": "2c33b725",
   "metadata": {},
   "outputs": [
    {
     "data": {
      "text/plain": [
       "(205, 14)"
      ]
     },
     "execution_count": 29,
     "metadata": {},
     "output_type": "execute_result"
    }
   ],
   "source": [
    "X_numeric.shape"
   ]
  },
  {
   "cell_type": "code",
   "execution_count": 35,
   "id": "b8b6ba24",
   "metadata": {},
   "outputs": [
    {
     "data": {
      "text/plain": [
       "0.20998422273225703"
      ]
     },
     "execution_count": 35,
     "metadata": {},
     "output_type": "execute_result"
    }
   ],
   "source": [
    "model = LinearRegression()\n",
    "cv_results = cross_validate(model, X_numeric, y, cv=10, scoring='r2')\n",
    "cv_results['test_score'].mean()"
   ]
  },
  {
   "cell_type": "markdown",
   "id": "7c95ee40",
   "metadata": {},
   "source": [
    "# Logistic Regression"
   ]
  },
  {
   "cell_type": "code",
   "execution_count": 67,
   "id": "3539fb3f",
   "metadata": {},
   "outputs": [],
   "source": [
    "from sklearn.preprocessing import Binarizer\n",
    "\n",
    "X = data[['enginesize', 'horsepower', 'curbweight', 'highwaympg']]\n",
    "\n",
    "y = data[['price']]\n",
    "y_binarized = Binarizer(threshold=y.mean()[0]).fit_transform(y)\n",
    "y_binarized = np.ravel(y_binarized)"
   ]
  },
  {
   "cell_type": "code",
   "execution_count": 68,
   "id": "b90970cc",
   "metadata": {},
   "outputs": [
    {
     "data": {
      "text/plain": [
       "0.878048780487805"
      ]
     },
     "execution_count": 68,
     "metadata": {},
     "output_type": "execute_result"
    }
   ],
   "source": [
    "from sklearn.linear_model import LogisticRegression\n",
    "\n",
    "model = LogisticRegression(max_iter=1000)\n",
    "\n",
    "# 5 fold cv\n",
    "cv_results = cross_validate(model, X, y_binarized, cv=5)\n",
    "\n",
    "# store result\n",
    "accuracy = cv_results['test_score'].mean()\n",
    "accuracy"
   ]
  },
  {
   "cell_type": "code",
   "execution_count": 70,
   "id": "876d026d",
   "metadata": {},
   "outputs": [
    {
     "data": {
      "image/png": "[encoded data removed]",
      "text/plain": [
       "<Figure size 432x288 with 1 Axes>"
      ]
     },
     "metadata": {
      "needs_background": "light"
     },
     "output_type": "display_data"
    }
   ],
   "source": [
    "train_sizes, train_scores, test_scores = learning_curve(\n",
    "                                                        estimator=LogisticRegression(max_iter=1000), \n",
    "                                                        X=X, \n",
    "                                                        y=y_binarized, \n",
    "                                                        train_sizes=[25,50,75,100,125,150], \n",
    "                                                        cv=20\n",
    "                                                       )\n",
    "\n",
    "train_scores_mean = np.mean(train_scores, axis=1)\n",
    "test_scores_mean = np.mean(test_scores, axis=1)\n",
    "\n",
    "plt.xlabel('Train Size')\n",
    "plt.ylabel('Score')\n",
    "\n",
    "plt.plot(train_sizes, train_scores_mean, label='Training Score')\n",
    "plt.plot(train_sizes, test_scores_mean, label='Test Score')\n",
    "\n",
    "plt.legend();"
   ]
  },
  {
   "cell_type": "code",
   "execution_count": null,
   "id": "f197374a",
   "metadata": {},
   "outputs": [],
   "source": []
  }
 ],
 "metadata": {
  "kernelspec": {
   "display_name": "Python 3 (ipykernel)",
   "language": "python",
   "name": "python3"
  },
  "language_info": {
   "codemirror_mode": {
    "name": "ipython",
    "version": 3
   },
   "file_extension": ".py",
   "mimetype": "text/x-python",
   "name": "python",
   "nbconvert_exporter": "python",
   "pygments_lexer": "ipython3",
   "version": "3.8.12"
  },
  "toc": {
   "base_numbering": 1,
   "nav_menu": {},
   "number_sections": true,
   "sideBar": true,
   "skip_h1_title": false,
   "title_cell": "Table of Contents",
   "title_sidebar": "Contents",
   "toc_cell": false,
   "toc_position": {
    "height": "calc(100% - 180px)",
    "left": "10px",
    "top": "150px",
    "width": "384px"
   },
   "toc_section_display": true,
   "toc_window_display": true
  }
 },
 "nbformat": 4,
 "nbformat_minor": 5
}
