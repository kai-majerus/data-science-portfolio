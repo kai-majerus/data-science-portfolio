{
 "cells": [
  {
   "cell_type": "code",
   "execution_count": 1,
   "metadata": {},
   "outputs": [],
   "source": [
    "import pandas as pd\n",
    "import numpy as np\n",
    "import requests\n",
    "from PIL import Image\n",
    "from io import BytesIO"
   ]
  },
  {
   "cell_type": "markdown",
   "metadata": {},
   "source": [
    "# Download dataset"
   ]
  },
  {
   "cell_type": "code",
   "execution_count": 2,
   "metadata": {},
   "outputs": [],
   "source": [
    "small = True"
   ]
  },
  {
   "cell_type": "code",
   "execution_count": 3,
   "metadata": {},
   "outputs": [],
   "source": [
    "if small == True:\n",
    "    train_df = pd.read_csv('ladybird_train_small.csv')\n",
    "    test_df = pd.read_csv('ladybird_test_small.csv')\n",
    "else:\n",
    "    train_df = pd.read_csv('ladybird_train.csv')\n",
    "    test_df = pd.read_csv('ladybird_test.csv')"
   ]
  },
  {
   "cell_type": "code",
   "execution_count": 4,
   "metadata": {},
   "outputs": [
    {
     "name": "stdout",
     "output_type": "stream",
     "text": [
      "Size of train set: 6871\n",
      "Size of test set: 1718\n"
     ]
    }
   ],
   "source": [
    "print(f'Size of train set: {train_df.shape[0]}')\n",
    "print(f'Size of test set: {test_df.shape[0]}')"
   ]
  },
  {
   "cell_type": "code",
   "execution_count": 6,
   "metadata": {},
   "outputs": [
    {
     "data": {
      "text/plain": [
       "'https://inaturalist-open-data.s3.amazonaws.com/photos/148104173/original.jpg'"
      ]
     },
     "execution_count": 6,
     "metadata": {},
     "output_type": "execute_result"
    }
   ],
   "source": [
    "train_df['url'][0]"
   ]
  },
  {
   "cell_type": "code",
   "execution_count": 9,
   "metadata": {},
   "outputs": [],
   "source": [
    "prepocessing_options = {\n",
    "    'image_size': (224, 224),\n",
    "    'scaling': 1/255,\n",
    "}\n"
   ]
  },
  {
   "cell_type": "code",
   "execution_count": 7,
   "metadata": {},
   "outputs": [],
   "source": [
    "def download_and_preprocess_image(url, prepocessing_options):\n",
    "    try:\n",
    "        # Download the image\n",
    "        response = requests.get(url, timeout=10)\n",
    "        response.raise_for_status()  # Check if the download was successful\n",
    "        image = Image.open(BytesIO(response.content))\n",
    "\n",
    "        # Resize and convert the image\n",
    "        image = image.convert(\"RGB\")  # Ensure it's in RGB format\n",
    "        image = image.resize(prepocessing_options['image_size'])\n",
    "\n",
    "        # Convert image to numpy array and normalize pixel values to [0, 1]\n",
    "        image_array = np.array(image) * prepocessing_options['scaling']\n",
    "\n",
    "        return image_array\n",
    "    except Exception as e:\n",
    "        print(f\"Error downloading or processing image from {url}: {e}\")\n",
    "        return None"
   ]
  },
  {
   "cell_type": "code",
   "execution_count": 7,
   "metadata": {},
   "outputs": [],
   "source": [
    "# Helper function to process images for a given DataFrame\n",
    "def process_images(df, n=5, prepocessing_options=None):\n",
    "    image_arrays = []\n",
    "    for _, row in df[:n].iterrows():\n",
    "        image_array = download_and_preprocess_image(row['url'], prepocessing_options)\n",
    "        image_arrays.append(image_array if image_array is not None else None)\n",
    "\n",
    "    # Return a copy of the DataFrame with the new 'image_array' column\n",
    "    df_with_images = df[:n].copy()\n",
    "    df_with_images['image_array'] = image_arrays\n",
    "    return df_with_images"
   ]
  },
  {
   "cell_type": "code",
   "execution_count": 8,
   "metadata": {},
   "outputs": [],
   "source": [
    "train_n = len(train_df)\n",
    "test_n = len(test_df)"
   ]
  },
  {
   "cell_type": "code",
   "execution_count": 9,
   "metadata": {},
   "outputs": [
    {
     "name": "stdout",
     "output_type": "stream",
     "text": [
      "Error downloading or processing image from https://inaturalist-open-data.s3.amazonaws.com/photos/194699622/original.jpg: HTTPSConnectionPool(host='inaturalist-open-data.s3.amazonaws.com', port=443): Read timed out.\n",
      "Error downloading or processing image from https://inaturalist-open-data.s3.amazonaws.com/photos/399101118/original.jpeg: HTTPSConnectionPool(host='inaturalist-open-data.s3.amazonaws.com', port=443): Read timed out. (read timeout=10)\n",
      "Error downloading or processing image from https://inaturalist-open-data.s3.amazonaws.com/photos/104028326/original.jpg: HTTPSConnectionPool(host='inaturalist-open-data.s3.amazonaws.com', port=443): Read timed out. (read timeout=10)\n",
      "Error downloading or processing image from https://inaturalist-open-data.s3.amazonaws.com/photos/429986620/original.jpeg: HTTPSConnectionPool(host='inaturalist-open-data.s3.amazonaws.com', port=443): Read timed out.\n",
      "Error downloading or processing image from https://inaturalist-open-data.s3.amazonaws.com/photos/188732534/original.jpg: HTTPSConnectionPool(host='inaturalist-open-data.s3.amazonaws.com', port=443): Read timed out.\n",
      "Error downloading or processing image from https://inaturalist-open-data.s3.amazonaws.com/photos/322533028/original.jpg: HTTPSConnectionPool(host='inaturalist-open-data.s3.amazonaws.com', port=443): Read timed out.\n",
      "Error downloading or processing image from https://inaturalist-open-data.s3.amazonaws.com/photos/298383826/original.jpeg: HTTPSConnectionPool(host='inaturalist-open-data.s3.amazonaws.com', port=443): Read timed out.\n",
      "Error downloading or processing image from https://inaturalist-open-data.s3.amazonaws.com/photos/297006746/original.jpeg: HTTPSConnectionPool(host='inaturalist-open-data.s3.amazonaws.com', port=443): Read timed out.\n",
      "Error downloading or processing image from https://inaturalist-open-data.s3.amazonaws.com/photos/297649213/original.jpeg: HTTPSConnectionPool(host='inaturalist-open-data.s3.amazonaws.com', port=443): Read timed out.\n",
      "Error downloading or processing image from https://inaturalist-open-data.s3.amazonaws.com/photos/375035203/original.jpeg: ('Connection aborted.', ConnectionResetError(54, 'Connection reset by peer'))\n"
     ]
    }
   ],
   "source": [
    "# Process train and test dataframes\n",
    "train_df_with_image_arrays = process_images(train_df, n=train_n, prepocessing_options=prepocessing_options)\n",
    "test_df_with_image_arrays = process_images(test_df, n=test_n, prepocessing_options=prepocessing_options)"
   ]
  },
  {
   "cell_type": "code",
   "execution_count": 10,
   "metadata": {},
   "outputs": [
    {
     "data": {
      "text/html": [
       "<div>\n",
       "<style scoped>\n",
       "    .dataframe tbody tr th:only-of-type {\n",
       "        vertical-align: middle;\n",
       "    }\n",
       "\n",
       "    .dataframe tbody tr th {\n",
       "        vertical-align: top;\n",
       "    }\n",
       "\n",
       "    .dataframe thead th {\n",
       "        text-align: right;\n",
       "    }\n",
       "</style>\n",
       "<table border=\"1\" class=\"dataframe\">\n",
       "  <thead>\n",
       "    <tr style=\"text-align: right;\">\n",
       "      <th></th>\n",
       "      <th>scientificName</th>\n",
       "      <th>species</th>\n",
       "      <th>url</th>\n",
       "      <th>label</th>\n",
       "      <th>image_array</th>\n",
       "    </tr>\n",
       "  </thead>\n",
       "  <tbody>\n",
       "    <tr>\n",
       "      <th>0</th>\n",
       "      <td>Coccinella septempunctata Linnaeus, 1758</td>\n",
       "      <td>Coccinella septempunctata</td>\n",
       "      <td>https://inaturalist-open-data.s3.amazonaws.com...</td>\n",
       "      <td>14</td>\n",
       "      <td>[[[0.807843137254902, 0.8117647058823529, 0.81...</td>\n",
       "    </tr>\n",
       "    <tr>\n",
       "      <th>1</th>\n",
       "      <td>Coccinella septempunctata Linnaeus, 1758</td>\n",
       "      <td>Coccinella septempunctata</td>\n",
       "      <td>https://inaturalist-open-data.s3.amazonaws.com...</td>\n",
       "      <td>14</td>\n",
       "      <td>[[[0.4392156862745098, 0.5764705882352941, 0.1...</td>\n",
       "    </tr>\n",
       "    <tr>\n",
       "      <th>2</th>\n",
       "      <td>Halyzia sedecimguttata (Linnaeus, 1758)</td>\n",
       "      <td>Halyzia sedecimguttata</td>\n",
       "      <td>https://inaturalist-open-data.s3.amazonaws.com...</td>\n",
       "      <td>17</td>\n",
       "      <td>[[[0.28627450980392155, 0.23529411764705882, 0...</td>\n",
       "    </tr>\n",
       "    <tr>\n",
       "      <th>3</th>\n",
       "      <td>Calvia quatuordecimguttata (Linnaeus, 1758)</td>\n",
       "      <td>Calvia quatuordecimguttata</td>\n",
       "      <td>https://inaturalist-open-data.s3.amazonaws.com...</td>\n",
       "      <td>6</td>\n",
       "      <td>[[[0.3568627450980392, 0.38823529411764707, 0....</td>\n",
       "    </tr>\n",
       "    <tr>\n",
       "      <th>4</th>\n",
       "      <td>Propylea quatuordecimpunctata (Linnaeus, 1758)</td>\n",
       "      <td>Propylaea quatuordecimpunctata</td>\n",
       "      <td>https://inaturalist-open-data.s3.amazonaws.com...</td>\n",
       "      <td>26</td>\n",
       "      <td>[[[0.6980392156862745, 0.7411764705882353, 0.3...</td>\n",
       "    </tr>\n",
       "  </tbody>\n",
       "</table>\n",
       "</div>"
      ],
      "text/plain": [
       "                                   scientificName  \\\n",
       "0        Coccinella septempunctata Linnaeus, 1758   \n",
       "1        Coccinella septempunctata Linnaeus, 1758   \n",
       "2         Halyzia sedecimguttata (Linnaeus, 1758)   \n",
       "3     Calvia quatuordecimguttata (Linnaeus, 1758)   \n",
       "4  Propylea quatuordecimpunctata (Linnaeus, 1758)   \n",
       "\n",
       "                          species  \\\n",
       "0       Coccinella septempunctata   \n",
       "1       Coccinella septempunctata   \n",
       "2          Halyzia sedecimguttata   \n",
       "3      Calvia quatuordecimguttata   \n",
       "4  Propylaea quatuordecimpunctata   \n",
       "\n",
       "                                                 url  label  \\\n",
       "0  https://inaturalist-open-data.s3.amazonaws.com...     14   \n",
       "1  https://inaturalist-open-data.s3.amazonaws.com...     14   \n",
       "2  https://inaturalist-open-data.s3.amazonaws.com...     17   \n",
       "3  https://inaturalist-open-data.s3.amazonaws.com...      6   \n",
       "4  https://inaturalist-open-data.s3.amazonaws.com...     26   \n",
       "\n",
       "                                         image_array  \n",
       "0  [[[0.807843137254902, 0.8117647058823529, 0.81...  \n",
       "1  [[[0.4392156862745098, 0.5764705882352941, 0.1...  \n",
       "2  [[[0.28627450980392155, 0.23529411764705882, 0...  \n",
       "3  [[[0.3568627450980392, 0.38823529411764707, 0....  \n",
       "4  [[[0.6980392156862745, 0.7411764705882353, 0.3...  "
      ]
     },
     "execution_count": 10,
     "metadata": {},
     "output_type": "execute_result"
    }
   ],
   "source": [
    "train_df_with_image_arrays.head()"
   ]
  },
  {
   "cell_type": "code",
   "execution_count": 11,
   "metadata": {},
   "outputs": [],
   "source": [
    "# Determine output file names\n",
    "train_output_path = 'ladybird_train_small_preprocessed.pkl' if small else 'ladybird_train_preprocessed.pkl'\n",
    "test_output_path = 'ladybird_test_small_preprocessed.pkl' if small else 'ladybird_test_preprocessed.pkl'\n",
    "\n",
    "# Save to pickle files\n",
    "train_df_with_image_arrays.to_pickle(train_output_path)\n",
    "test_df_with_image_arrays.to_pickle(test_output_path)"
   ]
  },
  {
   "cell_type": "markdown",
   "metadata": {},
   "source": []
  }
 ],
 "metadata": {
  "kernelspec": {
   "display_name": "data-science-portfolio",
   "language": "python",
   "name": "python3"
  },
  "language_info": {
   "codemirror_mode": {
    "name": "ipython",
    "version": 3
   },
   "file_extension": ".py",
   "mimetype": "text/x-python",
   "name": "python",
   "nbconvert_exporter": "python",
   "pygments_lexer": "ipython3",
   "version": "3.10.6"
  }
 },
 "nbformat": 4,
 "nbformat_minor": 2
}
